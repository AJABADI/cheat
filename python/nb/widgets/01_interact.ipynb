{
 "metadata": {
  "name": "",
  "signature": "sha256:e9aa9d464a842dc10050d6bddc51eefedb81bfd289fe906db23315a6f3aa9cf2"
 },
 "nbformat": 3,
 "nbformat_minor": 0,
 "worksheets": [
  {
   "cells": [
    {
     "cell_type": "markdown",
     "metadata": {},
     "source": [
      "# Calling your Python functions with graphical controls"
     ]
    },
    {
     "cell_type": "markdown",
     "metadata": {},
     "source": [
      "We need to import a few functions from IPython."
     ]
    },
    {
     "cell_type": "code",
     "collapsed": false,
     "input": [
      "import IPython.html.widgets as widgets\n",
      "from IPython.html.widgets import interact, interactive, fixed"
     ],
     "language": "python",
     "metadata": {},
     "outputs": [],
     "prompt_number": 1
    },
    {
     "cell_type": "markdown",
     "metadata": {},
     "source": [
      "Let's create a simple function."
     ]
    },
    {
     "cell_type": "code",
     "collapsed": false,
     "input": [
      "def f(x):\n",
      "    print(\"%d^2=%d\" % (x, x*x))"
     ],
     "language": "python",
     "metadata": {},
     "outputs": [],
     "prompt_number": 2
    },
    {
     "cell_type": "code",
     "collapsed": false,
     "input": [
      "f(3)"
     ],
     "language": "python",
     "metadata": {},
     "outputs": [
      {
       "output_type": "stream",
       "stream": "stdout",
       "text": [
        "3^2=9\n"
       ]
      }
     ],
     "prompt_number": 3
    },
    {
     "cell_type": "markdown",
     "metadata": {},
     "source": [
      "To make our function interactive, we add the **decorator `@interact`**. The argument to `@interact` specifies the domain for the `x` argument. IPython understands that `(0, 10)` means *\"a slider with an integer ranging from 0 to 10\"*."
     ]
    },
    {
     "cell_type": "code",
     "collapsed": false,
     "input": [
      "@interact(x=(0, 10))\n",
      "def f(x):\n",
      "    print(\"%d^2=%d\" % (x, x*x))"
     ],
     "language": "python",
     "metadata": {},
     "outputs": [
      {
       "output_type": "stream",
       "stream": "stdout",
       "text": [
        "5^2=25\n"
       ]
      }
     ],
     "prompt_number": 4
    },
    {
     "cell_type": "markdown",
     "metadata": {},
     "source": [
      "We can set a default value easily."
     ]
    },
    {
     "cell_type": "code",
     "collapsed": false,
     "input": [
      "@interact(x=(0, 10))\n",
      "def f(x=3):\n",
      "    print(\"%d^2=%d\" % (x, x*x))"
     ],
     "language": "python",
     "metadata": {},
     "outputs": [
      {
       "output_type": "stream",
       "stream": "stdout",
       "text": [
        "3^2=9\n"
       ]
      }
     ],
     "prompt_number": 5
    },
    {
     "cell_type": "markdown",
     "metadata": {},
     "source": [
      "## Widget abbreviations"
     ]
    },
    {
     "cell_type": "markdown",
     "metadata": {},
     "source": [
      "Other controls can be created easily:\n",
      "* checkbox\n",
      "* text area\n",
      "* slider\n",
      "* dropdown\n",
      "\n",
      "Here is a complete example."
     ]
    },
    {
     "cell_type": "code",
     "collapsed": false,
     "input": [
      "import numpy as np\n",
      "import matplotlib.pyplot as plt\n",
      "%matplotlib inline"
     ],
     "language": "python",
     "metadata": {},
     "outputs": [],
     "prompt_number": 6
    },
    {
     "cell_type": "code",
     "collapsed": false,
     "input": [
      "@interact(fun=('sin', 'cos', 'arctan'),  # dropdown menu\n",
      "          title='my function',  # text area\n",
      "          dashed=False,  # checkbox\n",
      "          xscale=(.1, 100.))  # float slider\n",
      "\n",
      "def complex_plot(fun='sin', \n",
      "                 title='sine', \n",
      "                 dashed=False, \n",
      "                 xscale=5.):\n",
      "    \n",
      "    f = getattr(np, fun)\n",
      "    t = np.linspace(-xscale, +xscale, 1000)\n",
      "    s = '--' if dashed else '-'\n",
      "    \n",
      "    plt.plot(t, f(t), s, lw=3);\n",
      "    plt.xlim(-xscale, +xscale);\n",
      "    plt.title(title);"
     ],
     "language": "python",
     "metadata": {},
     "outputs": [
      {
       "metadata": {},
       "output_type": "display_data",
       "png": "[encoded data removed]",
       "text": [
        "<matplotlib.figure.Figure at 0x10b4eecf8>"
       ]
      }
     ],
     "prompt_number": 7
    },
    {
     "cell_type": "markdown",
     "metadata": {},
     "source": [
      "IPython adopts the following conventions, called **widget abbreviations**.\n",
      "\n",
      "<table class=\"table table-condensed table-bordered\">\n",
      "  <tr><td><strong>Keyword argument</strong></td><td><strong>Widget</strong></td></tr><br>  <tr><td><code>True</code> or <code>False</code></td><td>CheckboxWiget</td></tr><br>  <tr><td><code>&#39;Hi there&#39;</code></td><td>TextareaWidget</td></tr>\n",
      "  <tr><td><code>value</code> or <code>(min,max)</code> or <code>(min,max,step)</code> if integers are passed</td><td>IntSliderWidget</td></tr>\n",
      "  <tr><td><code>value</code> or <code>(min,max)</code> or <code>(min,max,step)</code> if floats are passed</td><td>FloatSliderWidget</td></tr>\n",
      "  <tr><td><code>(&#39;orange&#39;,&#39;apple&#39;)</code> or <code>{&#39;one&#39;:1,&#39;two&#39;:2}</code></td><td>DropdownWidget</td></tr>\n",
      "</table>"
     ]
    },
    {
     "cell_type": "markdown",
     "metadata": {},
     "source": [
      "## More widgets"
     ]
    },
    {
     "cell_type": "markdown",
     "metadata": {},
     "source": [
      "For more fine-grained control, it is possible to specify widgets explicitly. A **widget** is just a graphical control like a dropdown list, a button, or a slider. Here is the list of all available widgets:"
     ]
    },
    {
     "cell_type": "code",
     "collapsed": false,
     "input": [
      "[widget for widget in dir(widgets) if widget.endswith('Widget')]"
     ],
     "language": "python",
     "metadata": {},
     "outputs": [
      {
       "metadata": {},
       "output_type": "pyout",
       "prompt_number": 8,
       "text": [
        "['AccordionWidget',\n",
        " 'BoundedFloatTextWidget',\n",
        " 'BoundedIntTextWidget',\n",
        " 'ButtonWidget',\n",
        " 'CheckboxWidget',\n",
        " 'ContainerWidget',\n",
        " 'DOMWidget',\n",
        " 'DropdownWidget',\n",
        " 'FloatProgressWidget',\n",
        " 'FloatSliderWidget',\n",
        " 'FloatTextWidget',\n",
        " 'HTMLWidget',\n",
        " 'ImageWidget',\n",
        " 'IntProgressWidget',\n",
        " 'IntSliderWidget',\n",
        " 'IntTextWidget',\n",
        " 'LatexWidget',\n",
        " 'PopupWidget',\n",
        " 'RadioButtonsWidget',\n",
        " 'SelectWidget',\n",
        " 'TabWidget',\n",
        " 'TextWidget',\n",
        " 'TextareaWidget',\n",
        " 'ToggleButtonWidget',\n",
        " 'ToggleButtonsWidget',\n",
        " 'Widget']"
       ]
      }
     ],
     "prompt_number": 8
    },
    {
     "cell_type": "markdown",
     "metadata": {},
     "source": [
      "We're going to replace a few widgets: the checkbox by a toggle button, and the dropdown list by a sequence of radio buttons. The first step is to recover the widget instance created with `@interact`."
     ]
    },
    {
     "cell_type": "code",
     "collapsed": false,
     "input": [
      "interact(complex_plot,\n",
      "         title='my function',\n",
      "         xscale=(.1, 100.),\n",
      "         fun=widgets.RadioButtonsWidget(values=['sin', 'cos', 'arctan']),\n",
      "         dashed=widgets.ToggleButtonWidget(),);"
     ],
     "language": "python",
     "metadata": {},
     "outputs": [
      {
       "metadata": {},
       "output_type": "display_data",
       "png": "[encoded data removed]",
       "text": [
        "<matplotlib.figure.Figure at 0x10b5b8f28>"
       ]
      }
     ],
     "prompt_number": 9
    },
    {
     "cell_type": "markdown",
     "metadata": {},
     "source": [
      "This would also work with custom widgets."
     ]
    },
    {
     "cell_type": "markdown",
     "metadata": {},
     "source": [
      "## References\n",
      "\n",
      "* [IPython in depth tutorial](http://nbviewer.ipython.org/github/ipython/ipython-in-depth/blob/master/examples/Interactive%20Widgets/Using%20Interact.ipynb)"
     ]
    }
   ],
   "metadata": {}
  }
 ]
}