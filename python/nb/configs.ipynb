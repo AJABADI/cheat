{
 "metadata": {
  "name": "",
  "signature": "sha256:fa9ceb53d5db6b9c2778a8bc70501854dd26685e1dc07b9c6e5c9f98bf32f05c"
 },
 "nbformat": 3,
 "nbformat_minor": 0,
 "worksheets": [
  {
   "cells": [
    {
     "cell_type": "code",
     "collapsed": false,
     "input": [
      "%%file /tmp/configs_default.ini\n",
      "[server]\n",
      "host=google\n",
      "port=8080\n",
      "url=http://%(host)s.com:%(port)s"
     ],
     "language": "python",
     "metadata": {},
     "outputs": [
      {
       "output_type": "stream",
       "stream": "stdout",
       "text": [
        "Overwriting /tmp/configs_default.ini\n"
       ]
      }
     ],
     "prompt_number": 10
    },
    {
     "cell_type": "code",
     "collapsed": false,
     "input": [
      "%%file /tmp/configs_user.ini\n",
      "[server]\n",
      "host=cangermueller"
     ],
     "language": "python",
     "metadata": {},
     "outputs": [
      {
       "output_type": "stream",
       "stream": "stdout",
       "text": [
        "Writing /tmp/configs_user.ini\n"
       ]
      }
     ],
     "prompt_number": 11
    },
    {
     "cell_type": "code",
     "collapsed": false,
     "input": [
      "%%file /tmp/configs.ini\n",
      "[server]\n",
      "port=8090"
     ],
     "language": "python",
     "metadata": {},
     "outputs": [
      {
       "output_type": "stream",
       "stream": "stdout",
       "text": [
        "Overwriting /tmp/configs.ini\n"
       ]
      }
     ],
     "prompt_number": 12
    },
    {
     "cell_type": "markdown",
     "metadata": {},
     "source": [
      "* built in modules: configparser, json\n",
      "* json: Java Script Object Notation\n",
      "* no native module for YAML"
     ]
    },
    {
     "cell_type": "code",
     "collapsed": false,
     "input": [
      "import configparser\n",
      "\n",
      "cp = configparser.SafeConfigParser()\n",
      "cp.read(['/tmp/configs_default.ini', '/tmp/configs_user.ini', '/tmp/configs.ini']) # last has highest priority\n",
      "print(cp.sections())\n",
      "print(cp.get('server', 'host'))\n",
      "print(cp.getint('server', 'port'))\n",
      "print(cp.get('server', 'url'))\n",
      "\n",
      "print(cp.items('server'))\n",
      "\n",
      "cp.set('server', 'id', '101')\n",
      "f = open('configs_new.ini', 'w')\n",
      "cp.write(f)\n",
      "f.close()"
     ],
     "language": "python",
     "metadata": {},
     "outputs": [
      {
       "output_type": "stream",
       "stream": "stdout",
       "text": [
        "['server']\n",
        "cangermueller\n",
        "8090\n",
        "http://cangermueller.com:8090\n",
        "[('host', 'cangermueller'), ('port', '8090'), ('url', 'http://cangermueller.com:8090')]\n"
       ]
      }
     ],
     "prompt_number": 13
    },
    {
     "cell_type": "code",
     "collapsed": false,
     "input": [],
     "language": "python",
     "metadata": {},
     "outputs": []
    }
   ],
   "metadata": {}
  }
 ]
}