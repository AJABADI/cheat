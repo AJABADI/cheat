{
 "metadata": {
  "celltoolbar": "Slideshow",
  "name": "",
  "signature": "sha256:54664d95e121751df1d24173bbd9fca8803a86bdfacb043b3e5c9d8701408baa"
 },
 "nbformat": 3,
 "nbformat_minor": 0,
 "worksheets": [
  {
   "cells": [
    {
     "cell_type": "markdown",
     "metadata": {
      "slideshow": {
       "slide_type": "slide"
      }
     },
     "source": [
      "<center><h1>Introduction to IPython slideshow</h1><br>\n",
      "<h2>Christof Angermueller</h2>\n",
      "<h2><a href=\"http://twitter.com/cangermueller\">@cangermueller</a></h2>\n",
      "<h2><a href=\"https://cangermueller.com\">Web</a></h2>\n",
      "</center>"
     ]
    },
    {
     "cell_type": "heading",
     "level": 1,
     "metadata": {
      "slideshow": {
       "slide_type": "slide"
      }
     },
     "source": [
      "Introduction"
     ]
    },
    {
     "cell_type": "markdown",
     "metadata": {
      "slideshow": {
       "slide_type": "-"
      }
     },
     "source": [
      "* `slideshow` is integrated into ipython 2.0 by default\n",
      "* `ipython nbconvert --to slides` converts ipynb to HTML5 slideshow\n",
      "* `ipython nbconvert --to slides --post serve` converts and starts HTTP server\n",
      "* `sudo port install nodejs` to install node.js\n",
      "* `python -m http.server 8000` starts HTTP server\n",
      "* ESC to get overview\n",
      "* https://github.com/ipython/ipython/wiki/IPEP-9:-Slideshow-from-the-notebook"
     ]
    },
    {
     "cell_type": "code",
     "collapsed": false,
     "input": [
      "# Don't show source\n",
      "import numpy\n",
      "import scipy\n",
      "\n",
      "def print_hello():\n",
      "    print('Hello')"
     ],
     "language": "python",
     "metadata": {
      "slideshow": {
       "slide_type": "skip"
      }
     },
     "outputs": [],
     "prompt_number": 7
    },
    {
     "cell_type": "markdown",
     "metadata": {
      "slideshow": {
       "slide_type": "skip"
      }
     },
     "source": [
      "Use `ipython nbconvert --template output_toggle.tpl` to hide code by default."
     ]
    },
    {
     "cell_type": "code",
     "collapsed": false,
     "input": [
      "%%file output_toggle.tpl\n",
      "\n",
      "{%- extends 'slides_reveal.tpl' -%}\n",
      "\n",
      "{% block input_group -%}\n",
      "<div class=\"input_hidden\">\n",
      "{{ super() }}\n",
      "</div>\n",
      "{% endblock input_group %}\n",
      "\n",
      "{%- block header -%}\n",
      "{{ super() }}\n",
      "\n",
      "<script src=\"//ajax.googleapis.com/ajax/libs/jquery/1.10.2/jquery.min.js\"></script>\n",
      "\n",
      "<style type=\"text/css\">\n",
      "//div.output_wrapper {\n",
      "//  margin-top: 0px;\n",
      "//}\n",
      ".input_hidden {\n",
      "  display: none;\n",
      "//  margin-top: 5px;\n",
      "}\n",
      "</style>\n",
      "\n",
      "<script>\n",
      "$(document).ready(function(){\n",
      "  $(\".output_wrapper\").click(function(){\n",
      "      $(this).prev('.input_hidden').slideToggle();\n",
      "  });\n",
      "})\n",
      "</script>\n",
      "{%- endblock header -%}"
     ],
     "language": "python",
     "metadata": {
      "slideshow": {
       "slide_type": "skip"
      }
     },
     "outputs": [
      {
       "output_type": "stream",
       "stream": "stdout",
       "text": [
        "Writing output_toggle.tpl\n"
       ]
      }
     ],
     "prompt_number": 19
    },
    {
     "cell_type": "heading",
     "level": 1,
     "metadata": {
      "slideshow": {
       "slide_type": "slide"
      }
     },
     "source": [
      "Fragments"
     ]
    },
    {
     "cell_type": "markdown",
     "metadata": {
      "slideshow": {
       "slide_type": "fragment"
      }
     },
     "source": [
      "* Point1\n",
      "* Point2\n",
      "* Point3\n"
     ]
    },
    {
     "cell_type": "markdown",
     "metadata": {
      "slideshow": {
       "slide_type": "fragment"
      }
     },
     "source": [
      "Fragment1"
     ]
    },
    {
     "cell_type": "markdown",
     "metadata": {
      "slideshow": {
       "slide_type": "fragment"
      }
     },
     "source": [
      "Fragment2"
     ]
    },
    {
     "cell_type": "heading",
     "level": 1,
     "metadata": {
      "slideshow": {
       "slide_type": "slide"
      }
     },
     "source": [
      "Media"
     ]
    },
    {
     "cell_type": "heading",
     "level": 2,
     "metadata": {
      "slideshow": {
       "slide_type": "-"
      }
     },
     "source": [
      "Image"
     ]
    },
    {
     "cell_type": "markdown",
     "metadata": {
      "slideshow": {
       "slide_type": "-"
      }
     },
     "source": [
      "Via ``HTML``"
     ]
    },
    {
     "cell_type": "markdown",
     "metadata": {
      "slideshow": {
       "slide_type": "-"
      }
     },
     "source": [
      "<img width=500px, src=\"http://ipython.org/_static/IPy_header.png\"/>"
     ]
    },
    {
     "cell_type": "code",
     "collapsed": false,
     "input": [
      "from IPython.display import Image\n",
      "Image(width=500, url='http://ipython.org/_static/IPy_header.png')"
     ],
     "language": "python",
     "metadata": {
      "slideshow": {
       "slide_type": "fragment"
      }
     },
     "outputs": [
      {
       "html": [
        "<img src=\"http://ipython.org/_static/IPy_header.png\" width=\"500\"/>"
       ],
       "metadata": {},
       "output_type": "pyout",
       "prompt_number": 5,
       "text": [
        "<IPython.core.display.Image at 0x10a0ef588>"
       ]
      }
     ],
     "prompt_number": 5
    },
    {
     "cell_type": "heading",
     "level": 2,
     "metadata": {
      "slideshow": {
       "slide_type": "subslide"
      }
     },
     "source": [
      "Videos"
     ]
    },
    {
     "cell_type": "code",
     "collapsed": false,
     "input": [
      "from IPython.display import YouTubeVideo\n",
      "YouTubeVideo(\"WESld11iNcQ\")"
     ],
     "language": "python",
     "metadata": {},
     "outputs": [
      {
       "html": [
        "\n",
        "        <iframe\n",
        "            width=\"400\"\n",
        "            height=300\"\n",
        "            src=\"https://www.youtube.com/embed/WESld11iNcQ\"\n",
        "            frameborder=\"0\"\n",
        "            allowfullscreen\n",
        "        ></iframe>\n",
        "        "
       ],
       "metadata": {},
       "output_type": "pyout",
       "prompt_number": 1,
       "text": [
        "<IPython.lib.display.YouTubeVideo at 0x10a109ac8>"
       ]
      }
     ],
     "prompt_number": 1
    },
    {
     "cell_type": "heading",
     "level": 1,
     "metadata": {
      "slideshow": {
       "slide_type": "slide"
      }
     },
     "source": [
      "Plots without source"
     ]
    },
    {
     "cell_type": "code",
     "collapsed": false,
     "input": [
      "import scipy.stats as sps\n",
      "import matplotlib.pyplot as plt\n",
      "%matplotlib inline"
     ],
     "language": "python",
     "metadata": {
      "slideshow": {
       "slide_type": "skip"
      }
     },
     "outputs": []
    },
    {
     "cell_type": "code",
     "collapsed": false,
     "input": [
      "x = np.linspace(0, 1, 100)\n",
      "y = sps.beta(5, 5).pdf(x)\n",
      "fig = plt.figure(figsize=(6, 4));\n",
      "ax = fig.add_subplot('111')\n",
      "p = ax.plot(x, y)\n",
      "ax.set_xlabel('$\\\\theta$')\n",
      "ax.set_ylabel('$p(\\\\theta)$')\n",
      "ax.grid()"
     ],
     "language": "python",
     "metadata": {
      "slideshow": {
       "slide_type": "skip"
      }
     },
     "outputs": [
      {
       "metadata": {},
       "output_type": "display_data",
       "png": "[encoded data removed]",
       "text": [
        "<matplotlib.figure.Figure at 0x10c86cc88>"
       ]
      }
     ],
     "prompt_number": 28
    },
    {
     "cell_type": "code",
     "collapsed": false,
     "input": [
      "fig"
     ],
     "language": "python",
     "metadata": {
      "slideshow": {
       "slide_type": "-"
      }
     },
     "outputs": [
      {
       "metadata": {},
       "output_type": "pyout",
       "png": "[encoded data removed]",
       "prompt_number": 29,
       "text": [
        "<matplotlib.figure.Figure at 0x10c86cc88>"
       ]
      }
     ],
     "prompt_number": 29
    }
   ],
   "metadata": {}
  }
 ]
}