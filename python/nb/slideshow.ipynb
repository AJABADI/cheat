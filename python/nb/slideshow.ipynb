{
 "metadata": {
  "celltoolbar": "Slideshow",
  "name": "",
  "signature": "sha256:bdbe478210f9cfeb396d4a112fb651bd28deebd34ebc5c61d5dd20a5de1c815f"
 },
 "nbformat": 3,
 "nbformat_minor": 0,
 "worksheets": [
  {
   "cells": [
    {
     "cell_type": "heading",
     "level": 1,
     "metadata": {
      "slideshow": {
       "slide_type": "slide"
      }
     },
     "source": [
      "Introduction"
     ]
    },
    {
     "cell_type": "markdown",
     "metadata": {},
     "source": [
      "* `slideshow` is integrated into ipython 2.0\n",
      "* `ipython nbconvert --to slides` converts ipynb to HTML5 slideshow\n",
      "* `ipython nbconvert --to slides --post serve` converts and starts HTTP server\n",
      "* `sudo port install nodejs` to install node.js\n",
      "* `python -m http.server 8000` starts HTTP server\n",
      "* ESC to view overview"
     ]
    },
    {
     "cell_type": "markdown",
     "metadata": {
      "slideshow": {
       "slide_type": "notes"
      }
     },
     "source": [
      "This is a note cell. Use 's' to show it during the presentation"
     ]
    },
    {
     "cell_type": "heading",
     "level": 1,
     "metadata": {
      "slideshow": {
       "slide_type": "slide"
      }
     },
     "source": [
      "Next slide"
     ]
    },
    {
     "cell_type": "markdown",
     "metadata": {},
     "source": [
      "Next slide"
     ]
    },
    {
     "cell_type": "code",
     "collapsed": false,
     "input": [],
     "language": "python",
     "metadata": {},
     "outputs": []
    }
   ],
   "metadata": {}
  }
 ]
}