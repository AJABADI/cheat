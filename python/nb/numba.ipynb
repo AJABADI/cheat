{
 "metadata": {
  "name": "",
  "signature": "sha256:8e4e8d54b304b3a24b54d7e8f2977cfa47443629a6492669b74ed404b9d80b84"
 },
 "nbformat": 3,
 "nbformat_minor": 0,
 "worksheets": [
  {
   "cells": [
    {
     "cell_type": "heading",
     "level": 1,
     "metadata": {},
     "source": [
      "Evaluating numerical expressions"
     ]
    },
    {
     "cell_type": "code",
     "collapsed": false,
     "input": [
      "from math import cos, sin\n",
      "import numexpr as ne"
     ],
     "language": "python",
     "metadata": {},
     "outputs": [],
     "prompt_number": 18
    },
    {
     "cell_type": "code",
     "collapsed": false,
     "input": [
      "fun = 'cos(x) + sin(x)'\n",
      "data = np.linspace(0, 100, 1e5)"
     ],
     "language": "python",
     "metadata": {},
     "outputs": [],
     "prompt_number": 49
    },
    {
     "cell_type": "code",
     "collapsed": false,
     "input": [
      "%timeit -n 1 y = [eval(fun) for x in data]"
     ],
     "language": "python",
     "metadata": {},
     "outputs": [
      {
       "output_type": "stream",
       "stream": "stdout",
       "text": [
        "1 loops, best of 3: 1.04 s per loop\n"
       ]
      }
     ],
     "prompt_number": 55
    },
    {
     "cell_type": "code",
     "collapsed": false,
     "input": [
      "ne.set_num_threads(16)\n",
      "x = data\n",
      "%timeit -n 10 y = ne.evaluate(fun)"
     ],
     "language": "python",
     "metadata": {},
     "outputs": [
      {
       "output_type": "stream",
       "stream": "stdout",
       "text": [
        "10 loops, best of 3: 1.96 ms per loop\n"
       ]
      }
     ],
     "prompt_number": 56
    },
    {
     "cell_type": "heading",
     "level": 1,
     "metadata": {},
     "source": [
      "Memory layout"
     ]
    },
    {
     "cell_type": "code",
     "collapsed": false,
     "input": [
      "x = np.random.randn(3, 1e7)\n",
      "C = np.array(x, order='C') # row wise storage [r1, r2, r3] -> fast on rows\n",
      "F = np.array(x, order='F') # column wise storage [c1, c2, c3] -> fast on columns"
     ],
     "language": "python",
     "metadata": {},
     "outputs": [],
     "prompt_number": 57
    },
    {
     "cell_type": "code",
     "collapsed": false,
     "input": [
      "%timeit np.sum(C, axis=0) # sum for each column -> slow"
     ],
     "language": "python",
     "metadata": {},
     "outputs": [
      {
       "output_type": "stream",
       "stream": "stdout",
       "text": [
        "10 loops, best of 3: 63.8 ms per loop\n"
       ]
      }
     ],
     "prompt_number": 58
    },
    {
     "cell_type": "code",
     "collapsed": false,
     "input": [
      "%timeit np.sum(C, axis=1) # sum for each row -> fast"
     ],
     "language": "python",
     "metadata": {},
     "outputs": [
      {
       "output_type": "stream",
       "stream": "stdout",
       "text": [
        "10 loops, best of 3: 33 ms per loop\n"
       ]
      }
     ],
     "prompt_number": 59
    },
    {
     "cell_type": "code",
     "collapsed": false,
     "input": [
      "%timeit np.sum(F, axis=0) # sum for each column -> fast"
     ],
     "language": "python",
     "metadata": {},
     "outputs": [
      {
       "output_type": "stream",
       "stream": "stdout",
       "text": [
        "10 loops, best of 3: 136 ms per loop\n"
       ]
      }
     ],
     "prompt_number": 60
    },
    {
     "cell_type": "code",
     "collapsed": false,
     "input": [
      "%timeit np.sum(F, axis=1) # sum for reach row -> slow"
     ],
     "language": "python",
     "metadata": {},
     "outputs": [
      {
       "output_type": "stream",
       "stream": "stdout",
       "text": [
        "1 loops, best of 3: 178 ms per loop\n"
       ]
      }
     ],
     "prompt_number": 61
    },
    {
     "cell_type": "markdown",
     "metadata": {},
     "source": [
      "* C is much faster than F: C-layout more established as F-layout\n",
      "* Use order depending on operations\n",
      "* Use C and transpose matrix if necessary"
     ]
    },
    {
     "cell_type": "heading",
     "level": 1,
     "metadata": {},
     "source": [
      "Numba"
     ]
    },
    {
     "cell_type": "code",
     "collapsed": false,
     "input": [
      "from numba import jit"
     ],
     "language": "python",
     "metadata": {},
     "outputs": [],
     "prompt_number": 56
    },
    {
     "cell_type": "code",
     "collapsed": false,
     "input": [
      "def sum_array(a):\n",
      "    s = 0.0\n",
      "    for i in range(a.shape[0]):\n",
      "        for j in range(a.shape[1]):\n",
      "            s += a[i, j]\n",
      "    return s"
     ],
     "language": "python",
     "metadata": {},
     "outputs": [],
     "prompt_number": 57
    },
    {
     "cell_type": "code",
     "collapsed": false,
     "input": [
      "data = np.random.rand(1000, 10000)"
     ],
     "language": "python",
     "metadata": {},
     "outputs": [],
     "prompt_number": 58
    },
    {
     "cell_type": "code",
     "collapsed": false,
     "input": [
      "%timeit sum_array(data)"
     ],
     "language": "python",
     "metadata": {},
     "outputs": [
      {
       "output_type": "stream",
       "stream": "stdout",
       "text": [
        "1 loops, best of 3: 5.17 s per loop\n"
       ]
      }
     ],
     "prompt_number": 59
    },
    {
     "cell_type": "code",
     "collapsed": false,
     "input": [
      "@jit\n",
      "def sum_array_jit(a):\n",
      "    s = 0.0\n",
      "    for i in range(a.shape[0]):\n",
      "        for j in range(a.shape[1]):\n",
      "            s += a[i, j]\n",
      "    return s"
     ],
     "language": "python",
     "metadata": {},
     "outputs": [],
     "prompt_number": 60
    },
    {
     "cell_type": "code",
     "collapsed": false,
     "input": [
      "%timeit sum_array_jit(data)"
     ],
     "language": "python",
     "metadata": {},
     "outputs": [
      {
       "output_type": "stream",
       "stream": "stdout",
       "text": [
        "100 loops, best of 3: 11.5 ms per loop\n"
       ]
      }
     ],
     "prompt_number": 61
    },
    {
     "cell_type": "code",
     "collapsed": false,
     "input": [
      "@jit('f8(f8[:, :])')\n",
      "def sum_array_jit_dtype(a):\n",
      "    s = 0.0\n",
      "    for i in range(a.shape[0]):\n",
      "        for j in range(a.shape[1]):\n",
      "            s += a[i, j]\n",
      "    return s"
     ],
     "language": "python",
     "metadata": {},
     "outputs": [],
     "prompt_number": 62
    },
    {
     "cell_type": "code",
     "collapsed": false,
     "input": [
      "%timeit sum_array_jit_dtype(data)"
     ],
     "language": "python",
     "metadata": {},
     "outputs": [
      {
       "output_type": "stream",
       "stream": "stdout",
       "text": [
        "100 loops, best of 3: 11.8 ms per loop\n"
       ]
      }
     ],
     "prompt_number": 64
    },
    {
     "cell_type": "code",
     "collapsed": false,
     "input": [
      "sum_array_jit_dtype.inspect_types()"
     ],
     "language": "python",
     "metadata": {},
     "outputs": [
      {
       "output_type": "stream",
       "stream": "stdout",
       "text": [
        "sum_array_jit_dtype (array(float64, 2d, A),)\n",
        "--------------------------------------------------------------------------------\n",
        "# File: <ipython-input-62-12bec00fc5bd>\n",
        "# --- LINE 1 --- \n",
        "\n",
        "@jit('f8(f8[:, :])')\n",
        "\n",
        "# --- LINE 2 --- \n",
        "\n",
        "def sum_array_jit_dtype(a):\n",
        "\n",
        "    # --- LINE 3 --- \n",
        "    # label 0\n",
        "    #   a.1 = a  :: array(float64, 2d, A)\n",
        "    #   $const0.1 = const(<type 'float'>, 0.0)  :: float64\n",
        "    #   s = $const0.1  :: float64\n",
        "\n",
        "    s = 0.0\n",
        "\n",
        "    # --- LINE 4 --- \n",
        "    #   jump 6\n",
        "    # label 6\n",
        "    #   $6.1 = global(range: <built-in function range>)  :: range\n",
        "    #   $6.3 = getattr(attr=shape, value=a.1)  :: (int64 x 2)\n",
        "    #   $const6.4 = const(<type 'int'>, 0)  :: int32\n",
        "    #   $6.5 = getitem(index=$const6.4, value=$6.3)  :: int64\n",
        "    #   $6.6 = call $6.1($6.5, )  :: (int64,) -> range_state64\n",
        "    #   $6.7 = getiter(value=$6.6)  :: range_iter64\n",
        "    #   jump 26\n",
        "    # label 26\n",
        "    #   $26.1 = iternext(value=$6.7)  :: pair<int64, bool>\n",
        "    #   $26.2 = pair_first(value=$26.1)  :: int64\n",
        "    #   $26.3 = pair_second(value=$26.1)  :: bool\n",
        "    #   $phi29.1 = $26.2  :: int64\n",
        "    #   branch $26.3, 29, 85\n",
        "    # label 29\n",
        "    #   i = $phi29.1  :: int64\n",
        "\n",
        "    for i in range(a.shape[0]):\n",
        "\n",
        "        # --- LINE 5 --- \n",
        "        # label 32\n",
        "        #   $32.1 = global(range: <built-in function range>)  :: range\n",
        "        #   $32.3 = getattr(attr=shape, value=a.1)  :: (int64 x 2)\n",
        "        #   $const32.4 = const(<type 'int'>, 1)  :: int32\n",
        "        #   $32.5 = getitem(index=$const32.4, value=$32.3)  :: int64\n",
        "        #   $32.6 = call $32.1($32.5, )  :: (int64,) -> range_state64\n",
        "        #   $32.7 = getiter(value=$32.6)  :: range_iter64\n",
        "        #   jump 52\n",
        "        # label 52\n",
        "        #   $52.1 = iternext(value=$32.7)  :: pair<int64, bool>\n",
        "        #   $52.2 = pair_first(value=$52.1)  :: int64\n",
        "        #   $52.3 = pair_second(value=$52.1)  :: bool\n",
        "        #   $phi55.1 = $52.2  :: int64\n",
        "        #   branch $52.3, 55, 81\n",
        "        # label 55\n",
        "        #   j = $phi55.1  :: int64\n",
        "        #   jump 32\n",
        "\n",
        "        for j in range(a.shape[1]):\n",
        "\n",
        "            # --- LINE 6 --- \n",
        "            # label 81\n",
        "            #   del $32.7\n",
        "            #   jump 82\n",
        "            # label 82\n",
        "            #   jump 26\n",
        "            # label 85\n",
        "            #   del $6.7\n",
        "            #   $55.6 = build_tuple(items=[Var(i, <ipython-input-62-12bec00fc5bd> (4)), Var(j, <ipython-input-62-12bec00fc5bd> (5))])  :: (int64 x 2)\n",
        "            #   $55.7 = getitem(index=$55.6, value=a.1)  :: float64\n",
        "            #   $55.8 = s + $55.7  :: float64\n",
        "            #   s = $55.8  :: float64\n",
        "            #   jump 52\n",
        "\n",
        "            s += a[i, j]\n",
        "\n",
        "    # --- LINE 7 --- \n",
        "    #   jump 86\n",
        "    # label 86\n",
        "    #   return s\n",
        "\n",
        "    return s\n",
        "\n",
        "\n",
        "================================================================================\n"
       ]
      }
     ],
     "prompt_number": 66
    }
   ],
   "metadata": {}
  }
 ]
}