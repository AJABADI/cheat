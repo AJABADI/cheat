{
 "cells": [
  {
   "cell_type": "code",
   "execution_count": 2,
   "metadata": {
    "collapsed": true
   },
   "outputs": [],
   "source": [
    "import hyperopt as ho\n",
    "import time\n",
    "import pickle"
   ]
  },
  {
   "cell_type": "code",
   "execution_count": 3,
   "metadata": {
    "collapsed": false
   },
   "outputs": [
    {
     "data": {
      "text/plain": [
       "'/Users/angermue/python/venv/predict/lib/python3.4/site-packages/hyperopt-0.0.3.dev0-py3.4.egg/hyperopt/__init__.py'"
      ]
     },
     "execution_count": 3,
     "metadata": {},
     "output_type": "execute_result"
    }
   ],
   "source": [
    "ho.__file__"
   ]
  },
  {
   "cell_type": "code",
   "execution_count": 4,
   "metadata": {
    "collapsed": false
   },
   "outputs": [],
   "source": [
    "%load_ext autoreload\n",
    "%autoreload 2"
   ]
  },
  {
   "cell_type": "code",
   "execution_count": 5,
   "metadata": {
    "collapsed": false
   },
   "outputs": [],
   "source": [
    "def objective(params):\n",
    "    x, y = params\n",
    "    loss = (x - 5)**2 + y**2 + 2\n",
    "    rv = {'loss': loss,\n",
    "          'status': ho.STATUS_OK,\n",
    "          'foo': 'bar', \n",
    "          'time': time.time()\n",
    "          }   \n",
    "    return rv"
   ]
  },
  {
   "cell_type": "code",
   "execution_count": 6,
   "metadata": {
    "collapsed": false
   },
   "outputs": [
    {
     "name": "stdout",
     "output_type": "stream",
     "text": [
      "{'x': 4.3641979844855587, 'y': -0.21327826234168157}\n"
     ]
    }
   ],
   "source": [
    "space = [ho.hp.uniform('x', -10, 10), ho.hp.uniform('y', -10, 10)]\n",
    "best = ho.fmin(objective,\n",
    "               space=space,\n",
    "               algo=ho.rand.suggest,\n",
    "               max_evals=100)\n",
    "print(best)"
   ]
  },
  {
   "cell_type": "code",
   "execution_count": 7,
   "metadata": {
    "collapsed": false
   },
   "outputs": [
    {
     "name": "stdout",
     "output_type": "stream",
     "text": [
      "{'x': 4.9949027915052655, 'y': -0.49199850924305788}\n"
     ]
    }
   ],
   "source": [
    "space = [ho.hp.uniform('x', -10, 10), ho.hp.uniform('y', -10, 10)]\n",
    "best = ho.fmin(objective,\n",
    "               space=space,\n",
    "               algo=ho.tpe.suggest,\n",
    "               max_evals=100)\n",
    "print(best)"
   ]
  },
  {
   "cell_type": "code",
   "execution_count": 9,
   "metadata": {
    "collapsed": false
   },
   "outputs": [],
   "source": [
    "trials = ho.Trials()\n",
    "best = ho.fmin(objective,\n",
    "               space=space,\n",
    "               algo=ho.tpe.suggest,\n",
    "               max_evals=5,\n",
    "               trials=trials)"
   ]
  },
  {
   "cell_type": "code",
   "execution_count": 10,
   "metadata": {
    "collapsed": false
   },
   "outputs": [
    {
     "name": "stdout",
     "output_type": "stream",
     "text": [
      "{'x': 4.2441459757489763, 'y': 0.52597610769494985}\n"
     ]
    }
   ],
   "source": [
    "print(best)"
   ]
  },
  {
   "cell_type": "code",
   "execution_count": 11,
   "metadata": {
    "collapsed": false
   },
   "outputs": [
    {
     "data": {
      "text/plain": [
       "{'x': 4.2441459757489763, 'y': 0.52597610769494985}"
      ]
     },
     "execution_count": 11,
     "metadata": {},
     "output_type": "execute_result"
    }
   ],
   "source": [
    "trials.argmin"
   ]
  },
  {
   "cell_type": "code",
   "execution_count": 12,
   "metadata": {
    "collapsed": false
   },
   "outputs": [
    {
     "data": {
      "text/plain": [
       "[{'foo': 'bar',\n",
       "  'loss': 25.034355717177647,\n",
       "  'status': 'ok',\n",
       "  'time': 1436637224.356363},\n",
       " {'foo': 'bar',\n",
       "  'loss': 2.8479661718423968,\n",
       "  'status': 'ok',\n",
       "  'time': 1436637224.357794},\n",
       " {'foo': 'bar',\n",
       "  'loss': 26.731884532581397,\n",
       "  'status': 'ok',\n",
       "  'time': 1436637224.359201},\n",
       " {'foo': 'bar',\n",
       "  'loss': 101.52803932698217,\n",
       "  'status': 'ok',\n",
       "  'time': 1436637224.360644},\n",
       " {'foo': 'bar',\n",
       "  'loss': 51.879137915279856,\n",
       "  'status': 'ok',\n",
       "  'time': 1436637224.36213}]"
      ]
     },
     "execution_count": 12,
     "metadata": {},
     "output_type": "execute_result"
    }
   ],
   "source": [
    "trials.results"
   ]
  },
  {
   "cell_type": "code",
   "execution_count": 13,
   "metadata": {
    "collapsed": false
   },
   "outputs": [
    {
     "data": {
      "text/plain": [
       "{'x': [5.4445365220551238,\n",
       "  4.2441459757489763,\n",
       "  1.5722848767502882,\n",
       "  -2.0820120428574214,\n",
       "  0.86363773047252401],\n",
       " 'y': [-4.7787804927341853,\n",
       "  0.52597610769494985,\n",
       "  3.6031449549562407,\n",
       "  7.0266026465002724,\n",
       "  5.7244777133385156]}"
      ]
     },
     "execution_count": 13,
     "metadata": {},
     "output_type": "execute_result"
    }
   ],
   "source": [
    "trials.vals"
   ]
  },
  {
   "cell_type": "code",
   "execution_count": 14,
   "metadata": {
    "collapsed": false
   },
   "outputs": [
    {
     "data": {
      "text/plain": [
       "[25.034355717177647,\n",
       " 2.8479661718423968,\n",
       " 26.731884532581397,\n",
       " 101.52803932698217,\n",
       " 51.879137915279856]"
      ]
     },
     "execution_count": 14,
     "metadata": {},
     "output_type": "execute_result"
    }
   ],
   "source": [
    "trials.losses()"
   ]
  },
  {
   "cell_type": "code",
   "execution_count": 16,
   "metadata": {
    "collapsed": false
   },
   "outputs": [
    {
     "data": {
      "text/plain": [
       "['ok', 'ok', 'ok', 'ok', 'ok']"
      ]
     },
     "execution_count": 16,
     "metadata": {},
     "output_type": "execute_result"
    }
   ],
   "source": [
    "trials.statuses()"
   ]
  },
  {
   "cell_type": "code",
   "execution_count": 17,
   "metadata": {
    "collapsed": false
   },
   "outputs": [
    {
     "data": {
      "text/plain": [
       "[{'book_time': datetime.datetime(2015, 7, 11, 17, 53, 44, 356000),\n",
       "  'exp_key': None,\n",
       "  'misc': {'cmd': ('domain_attachment', 'FMinIter_Domain'),\n",
       "   'idxs': {'x': [0], 'y': [0]},\n",
       "   'tid': 0,\n",
       "   'vals': {'x': [5.4445365220551238], 'y': [-4.7787804927341853]},\n",
       "   'workdir': None},\n",
       "  'owner': None,\n",
       "  'refresh_time': datetime.datetime(2015, 7, 11, 17, 53, 44, 356000),\n",
       "  'result': {'foo': 'bar',\n",
       "   'loss': 25.034355717177647,\n",
       "   'status': 'ok',\n",
       "   'time': 1436637224.356363},\n",
       "  'spec': None,\n",
       "  'state': 2,\n",
       "  'tid': 0,\n",
       "  'version': 0},\n",
       " {'book_time': datetime.datetime(2015, 7, 11, 17, 53, 44, 357000),\n",
       "  'exp_key': None,\n",
       "  'misc': {'cmd': ('domain_attachment', 'FMinIter_Domain'),\n",
       "   'idxs': {'x': [1], 'y': [1]},\n",
       "   'tid': 1,\n",
       "   'vals': {'x': [4.2441459757489763], 'y': [0.52597610769494985]},\n",
       "   'workdir': None},\n",
       "  'owner': None,\n",
       "  'refresh_time': datetime.datetime(2015, 7, 11, 17, 53, 44, 357000),\n",
       "  'result': {'foo': 'bar',\n",
       "   'loss': 2.8479661718423968,\n",
       "   'status': 'ok',\n",
       "   'time': 1436637224.357794},\n",
       "  'spec': None,\n",
       "  'state': 2,\n",
       "  'tid': 1,\n",
       "  'version': 0},\n",
       " {'book_time': datetime.datetime(2015, 7, 11, 17, 53, 44, 359000),\n",
       "  'exp_key': None,\n",
       "  'misc': {'cmd': ('domain_attachment', 'FMinIter_Domain'),\n",
       "   'idxs': {'x': [2], 'y': [2]},\n",
       "   'tid': 2,\n",
       "   'vals': {'x': [1.5722848767502882], 'y': [3.6031449549562407]},\n",
       "   'workdir': None},\n",
       "  'owner': None,\n",
       "  'refresh_time': datetime.datetime(2015, 7, 11, 17, 53, 44, 359000),\n",
       "  'result': {'foo': 'bar',\n",
       "   'loss': 26.731884532581397,\n",
       "   'status': 'ok',\n",
       "   'time': 1436637224.359201},\n",
       "  'spec': None,\n",
       "  'state': 2,\n",
       "  'tid': 2,\n",
       "  'version': 0},\n",
       " {'book_time': datetime.datetime(2015, 7, 11, 17, 53, 44, 360000),\n",
       "  'exp_key': None,\n",
       "  'misc': {'cmd': ('domain_attachment', 'FMinIter_Domain'),\n",
       "   'idxs': {'x': [3], 'y': [3]},\n",
       "   'tid': 3,\n",
       "   'vals': {'x': [-2.0820120428574214], 'y': [7.0266026465002724]},\n",
       "   'workdir': None},\n",
       "  'owner': None,\n",
       "  'refresh_time': datetime.datetime(2015, 7, 11, 17, 53, 44, 360000),\n",
       "  'result': {'foo': 'bar',\n",
       "   'loss': 101.52803932698217,\n",
       "   'status': 'ok',\n",
       "   'time': 1436637224.360644},\n",
       "  'spec': None,\n",
       "  'state': 2,\n",
       "  'tid': 3,\n",
       "  'version': 0},\n",
       " {'book_time': datetime.datetime(2015, 7, 11, 17, 53, 44, 361000),\n",
       "  'exp_key': None,\n",
       "  'misc': {'cmd': ('domain_attachment', 'FMinIter_Domain'),\n",
       "   'idxs': {'x': [4], 'y': [4]},\n",
       "   'tid': 4,\n",
       "   'vals': {'x': [0.86363773047252401], 'y': [5.7244777133385156]},\n",
       "   'workdir': None},\n",
       "  'owner': None,\n",
       "  'refresh_time': datetime.datetime(2015, 7, 11, 17, 53, 44, 362000),\n",
       "  'result': {'foo': 'bar',\n",
       "   'loss': 51.879137915279856,\n",
       "   'status': 'ok',\n",
       "   'time': 1436637224.36213},\n",
       "  'spec': None,\n",
       "  'state': 2,\n",
       "  'tid': 4,\n",
       "  'version': 0}]"
      ]
     },
     "execution_count": 17,
     "metadata": {},
     "output_type": "execute_result"
    }
   ],
   "source": [
    "trials.trials"
   ]
  },
  {
   "cell_type": "code",
   "execution_count": 18,
   "metadata": {
    "collapsed": false
   },
   "outputs": [],
   "source": [
    "import sklearn.datasets as ds\n",
    "from sklearn.ensemble import RandomForestClassifier\n",
    "import sklearn.metrics as met"
   ]
  },
  {
   "cell_type": "code",
   "execution_count": 19,
   "metadata": {
    "collapsed": true
   },
   "outputs": [],
   "source": [
    "digits = ds.load_digits()"
   ]
  },
  {
   "cell_type": "code",
   "execution_count": 20,
   "metadata": {
    "collapsed": false
   },
   "outputs": [],
   "source": [
    "X = digits.data\n",
    "y = digits.target == 8\n",
    "n = X.shape[0]\n",
    "val = 0.2\n",
    "nval = int(n * val)\n",
    "val_X = X[:nval]\n",
    "val_y = y[:nval]\n",
    "train_X = X[nval:]\n",
    "train_y = y[nval:]"
   ]
  },
  {
   "cell_type": "code",
   "execution_count": 21,
   "metadata": {
    "collapsed": false
   },
   "outputs": [],
   "source": [
    "ne = []\n",
    "\n",
    "def objective(p):\n",
    "    #m = RandomForestClassifier(\n",
    "    #    n_estimators=1+p['n_estimators'], \n",
    "    #    max_depth=round(p['max_depth']), \n",
    "    #    criterion=p['criterion'])\n",
    "    m = RandomForestClassifier()\n",
    "    ne.append(p['max_depth'])\n",
    "    \n",
    "    m.set_params(**p)\n",
    "    m.fit(train_X, train_y)\n",
    "    z = m.predict(train_X)\n",
    "    train_acc = met.accuracy_score(train_y, z)\n",
    "    train_auc = met.roc_auc_score(train_y, z)\n",
    "    z = m.predict(val_X)\n",
    "    val_acc = met.accuracy_score(val_y, z)\n",
    "    val_auc = met.roc_auc_score(val_y, z)\n",
    "    rv = {'loss': 1-val_acc, 'auc': val_auc, 'train_auc': train_auc, 'status': ho.STATUS_OK}\n",
    "    return rv"
   ]
  },
  {
   "cell_type": "code",
   "execution_count": 22,
   "metadata": {
    "collapsed": false
   },
   "outputs": [],
   "source": [
    "trials = ho.Trials()\n",
    "space = {'n_estimators': 1 + ho.hp.randint('n_estimators', 15), \n",
    "         'max_depth': ho.hp.quniform('max_depth', 1, 20, 1),\n",
    "         'criterion': ho.hp.choice('criterion', ['gini', 'entropy'])\n",
    "        }\n",
    "best = ho.fmin(objective,\n",
    "               space=space,\n",
    "               algo=ho.tpe.suggest,\n",
    "               max_evals=10, trials=trials)"
   ]
  },
  {
   "cell_type": "code",
   "execution_count": 23,
   "metadata": {
    "collapsed": false
   },
   "outputs": [
    {
     "data": {
      "text/plain": [
       "{'criterion': 1, 'max_depth': 20.0, 'n_estimators': 6}"
      ]
     },
     "execution_count": 23,
     "metadata": {},
     "output_type": "execute_result"
    }
   ],
   "source": [
    "best"
   ]
  },
  {
   "cell_type": "code",
   "execution_count": 33,
   "metadata": {
    "collapsed": true
   },
   "outputs": [],
   "source": [
    "def my_fun(a=10, b=20):\n",
    "    return a + b"
   ]
  },
  {
   "cell_type": "code",
   "execution_count": 38,
   "metadata": {
    "collapsed": false
   },
   "outputs": [
    {
     "data": {
      "text/plain": [
       "{'bootstrap': True,\n",
       " 'class_weight': None,\n",
       " 'criterion': 'gini',\n",
       " 'max_depth': None,\n",
       " 'max_features': 'auto',\n",
       " 'max_leaf_nodes': None,\n",
       " 'min_samples_leaf': 1,\n",
       " 'min_samples_split': 2,\n",
       " 'min_weight_fraction_leaf': 0.0,\n",
       " 'n_estimators': 1,\n",
       " 'n_jobs': 1,\n",
       " 'oob_score': False,\n",
       " 'random_state': None,\n",
       " 'verbose': 0,\n",
       " 'warm_start': False}"
      ]
     },
     "execution_count": 38,
     "metadata": {},
     "output_type": "execute_result"
    }
   ],
   "source": [
    "m = RandomForestClassifier()\n",
    "p = {'n_estimators': 1}\n",
    "m.set_params(**p)\n",
    "m.get_params()"
   ]
  },
  {
   "cell_type": "code",
   "execution_count": 60,
   "metadata": {
    "collapsed": true
   },
   "outputs": [],
   "source": [
    "space = {'n_estimators': 1 + ho.hp.randint('n_estimators', 15), \n",
    "         'max_depth': ho.hp.quniform('max_depth', 1, 20, 1),\n",
    "         'criterion': ho.hp.choice('criterion', ['gini', 'entropy'])\n",
    "        }"
   ]
  },
  {
   "cell_type": "code",
   "execution_count": 64,
   "metadata": {
    "collapsed": false
   },
   "outputs": [
    {
     "data": {
      "text/plain": [
       "{'criterion': 'gini', 'max_depth': 4.0, 'n_estimators': 10}"
      ]
     },
     "execution_count": 64,
     "metadata": {},
     "output_type": "execute_result"
    }
   ],
   "source": [
    "ho.pyll.stochastic.sample(space)"
   ]
  },
  {
   "cell_type": "code",
   "execution_count": 66,
   "metadata": {
    "collapsed": false
   },
   "outputs": [],
   "source": [
    "space = [ho.hp.choice('nhidden', [0, 1, 2]), 1 + ho.hp.randint('nunits1', 10), 1 + ho.hp.randint('nunits2', 10)]"
   ]
  },
  {
   "cell_type": "code",
   "execution_count": 67,
   "metadata": {
    "collapsed": false
   },
   "outputs": [
    {
     "data": {
      "text/plain": [
       "(1, 2, 2)"
      ]
     },
     "execution_count": 67,
     "metadata": {},
     "output_type": "execute_result"
    }
   ],
   "source": [
    "ho.pyll.stochastic.sample(space)"
   ]
  },
  {
   "cell_type": "code",
   "execution_count": null,
   "metadata": {
    "collapsed": true
   },
   "outputs": [],
   "source": [
    "ho.H"
   ]
  },
  {
   "cell_type": "code",
   "execution_count": 34,
   "metadata": {
    "collapsed": true
   },
   "outputs": [],
   "source": [
    "d = {'a': 10, 'b': 20}"
   ]
  },
  {
   "cell_type": "code",
   "execution_count": 35,
   "metadata": {
    "collapsed": false
   },
   "outputs": [
    {
     "data": {
      "text/plain": [
       "30"
      ]
     },
     "execution_count": 35,
     "metadata": {},
     "output_type": "execute_result"
    }
   ],
   "source": [
    "my_fun(**d)"
   ]
  },
  {
   "cell_type": "code",
   "execution_count": 141,
   "metadata": {
    "collapsed": false
   },
   "outputs": [
    {
     "data": {
      "text/plain": [
       "[{'auc': 0.87312217194570141,\n",
       "  'loss': 0.03899721448467963,\n",
       "  'status': 'ok',\n",
       "  'train_auc': 0.97499999999999998},\n",
       " {'auc': 0.87312217194570141,\n",
       "  'loss': 0.03899721448467963,\n",
       "  'status': 'ok',\n",
       "  'train_auc': 0.97857142857142865},\n",
       " {'auc': 0.80266968325791854,\n",
       "  'loss': 0.0473537604456824,\n",
       "  'status': 'ok',\n",
       "  'train_auc': 0.96032907770195897},\n",
       " {'auc': 0.84832579185520363,\n",
       "  'loss': 0.03621169916434541,\n",
       "  'status': 'ok',\n",
       "  'train_auc': 0.99285714285714288},\n",
       " {'auc': 0.91877828054298649,\n",
       "  'loss': 0.027855153203342642,\n",
       "  'status': 'ok',\n",
       "  'train_auc': 0.91516068677085627}]"
      ]
     },
     "execution_count": 141,
     "metadata": {},
     "output_type": "execute_result"
    }
   ],
   "source": [
    "trials.results"
   ]
  }
 ],
 "metadata": {
  "kernelspec": {
   "display_name": "Python 3",
   "language": "python",
   "name": "python3"
  },
  "language_info": {
   "codemirror_mode": {
    "name": "ipython",
    "version": 3
   },
   "file_extension": ".py",
   "mimetype": "text/x-python",
   "name": "python",
   "nbconvert_exporter": "python",
   "pygments_lexer": "ipython3",
   "version": "3.4.3"
  }
 },
 "nbformat": 4,
 "nbformat_minor": 0
}
