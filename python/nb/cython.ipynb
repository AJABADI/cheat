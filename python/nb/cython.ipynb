{
 "metadata": {
  "name": "",
  "signature": "sha256:6c7fcd2559e709c4bcbb0b3075a5d7479b63b9b59124e0255ccf1d5b5f213f01"
 },
 "nbformat": 3,
 "nbformat_minor": 0,
 "worksheets": [
  {
   "cells": [
    {
     "cell_type": "heading",
     "level": 1,
     "metadata": {},
     "source": [
      "Creating a c library"
     ]
    },
    {
     "cell_type": "heading",
     "level": 2,
     "metadata": {},
     "source": [
      "Cython file.pyx"
     ]
    },
    {
     "cell_type": "code",
     "collapsed": false,
     "input": [
      "%%file utils.pyx\n",
      "\n",
      "def cfind_first_int(str s):\n",
      "    cdef int i\n",
      "    for i, c in enumerate(s):\n",
      "        if c.isnumeric():\n",
      "            return i"
     ],
     "language": "python",
     "metadata": {},
     "outputs": [
      {
       "output_type": "stream",
       "stream": "stdout",
       "text": [
        "Overwriting utils.pyx\n"
       ]
      }
     ],
     "prompt_number": 1
    },
    {
     "cell_type": "heading",
     "level": 2,
     "metadata": {},
     "source": [
      "cython.pyx -> cython.so"
     ]
    },
    {
     "cell_type": "code",
     "collapsed": false,
     "input": [
      "%%file setup.py\n",
      "from distutils.core import setup\n",
      "from Cython.Build import cythonize\n",
      "\n",
      "setup(\n",
      "    ext_modules = cythonize('utils.pyx')\n",
      ")"
     ],
     "language": "python",
     "metadata": {},
     "outputs": [
      {
       "output_type": "stream",
       "stream": "stdout",
       "text": [
        "Overwriting setup.py\n"
       ]
      }
     ],
     "prompt_number": 2
    },
    {
     "cell_type": "code",
     "collapsed": false,
     "input": [
      "!python setup.py build_ext --inplace"
     ],
     "language": "python",
     "metadata": {},
     "outputs": [
      {
       "output_type": "stream",
       "stream": "stdout",
       "text": [
        "Compiling utils.pyx because it changed.\r\n",
        "Cythonizing utils.pyx\r\n"
       ]
      },
      {
       "output_type": "stream",
       "stream": "stdout",
       "text": [
        "running build_ext\r\n",
        "building 'utils' extension\r\n",
        "/usr/bin/clang -Wno-unused-result -Werror=declaration-after-statement -fno-common -dynamic -DNDEBUG -g -fwrapv -O3 -Wall -Wstrict-prototypes -pipe -Os -I/opt/local/Library/Frameworks/Python.framework/Versions/3.4/include/python3.4m -c utils.c -o build/temp.macosx-10.9-x86_64-3.4/utils.o\r\n"
       ]
      },
      {
       "output_type": "stream",
       "stream": "stdout",
       "text": [
        "\u001b[1mutils.c:1559:28: \u001b[0m\u001b[0;1;35mwarning: \u001b[0m\u001b[1munused function '__Pyx_PyObject_AsString' [-Wunused-function]\u001b[0m\r\n",
        "static CYTHON_INLINE char* __Pyx_PyObject_AsString(PyObject* o) {\r\n",
        "\u001b[0;1;32m                           ^\r\n",
        "\u001b[0m\u001b[1mutils.c:1556:32: \u001b[0m\u001b[0;1;35mwarning: \u001b[0m\u001b[1munused function '__Pyx_PyUnicode_FromString' [-Wunused-function]\u001b[0m\r\n",
        "static CYTHON_INLINE PyObject* __Pyx_PyUnicode_FromString(const char* c_str) {\r\n",
        "\u001b[0;1;32m                               ^\r\n",
        "\u001b[0m\u001b[1mutils.c:1678:33: \u001b[0m\u001b[0;1;35mwarning: \u001b[0m\u001b[1munused function '__Pyx_PyIndex_AsSsize_t' [-Wunused-function]\u001b[0m\r\n",
        "static CYTHON_INLINE Py_ssize_t __Pyx_PyIndex_AsSsize_t(PyObject* b) {\r\n",
        "\u001b[0;1;32m                                ^\r\n",
        "\u001b[0m\u001b[1mutils.c:1707:33: \u001b[0m\u001b[0;1;35mwarning: \u001b[0m\u001b[1munused function '__Pyx_PyInt_FromSize_t' [-Wunused-function]\u001b[0m\r\n",
        "static CYTHON_INLINE PyObject * __Pyx_PyInt_FromSize_t(size_t ival) {\r\n",
        "\u001b[0;1;32m                                ^\r\n",
        "\u001b[0m\u001b[1mutils.c:1098:26: \u001b[0m\u001b[0;1;35mwarning: \u001b[0m\u001b[1mfunction '__Pyx_PyInt_As_int' is not needed and will not be emitted [-Wunneeded-internal-declaration]\u001b[0m\r\n",
        "static CYTHON_INLINE int __Pyx_PyInt_As_int(PyObject *x) {\r\n",
        "\u001b[0;1;32m                         ^\r\n",
        "\u001b[0m\u001b[1mutils.c:1219:32: \u001b[0m\u001b[0;1;35mwarning: \u001b[0m\u001b[1munused function '__Pyx_PyInt_From_long' [-Wunused-function]\u001b[0m\r\n",
        "static CYTHON_INLINE PyObject* __Pyx_PyInt_From_long(long value) {\r\n",
        "\u001b[0;1;32m                               ^\r\n",
        "\u001b[0m\u001b[1mutils.c:1250:27: \u001b[0m\u001b[0;1;35mwarning: \u001b[0m\u001b[1mfunction '__Pyx_PyInt_As_long' is not needed and will not be emitted [-Wunneeded-internal-declaration]\u001b[0m\r\n",
        "static CYTHON_INLINE long __Pyx_PyInt_As_long(PyObject *x) {\r\n",
        "\u001b[0;1;32m                          ^\r\n",
        "\u001b[0m"
       ]
      },
      {
       "output_type": "stream",
       "stream": "stdout",
       "text": [
        "7 warnings generated.\r\n",
        "/usr/bin/clang -bundle -undefined dynamic_lookup -L/opt/local/lib -Wl,-headerpad_max_install_names build/temp.macosx-10.9-x86_64-3.4/utils.o -o /Users/angermue/docs/cheat/python/nb/utils.so\r\n"
       ]
      }
     ],
     "prompt_number": 3
    },
    {
     "cell_type": "heading",
     "level": 2,
     "metadata": {},
     "source": [
      "Importing the c module into python"
     ]
    },
    {
     "cell_type": "code",
     "collapsed": false,
     "input": [
      "import utils\n",
      "import string\n",
      "\n",
      "def find_first_int(s):\n",
      "    for i, c in enumerate(s):\n",
      "        if c.isnumeric():\n",
      "            return i\n",
      "\n",
      "long_string = string.ascii_letters * 1000 + '123' + string.ascii_letters"
     ],
     "language": "python",
     "metadata": {},
     "outputs": [],
     "prompt_number": 4
    },
    {
     "cell_type": "code",
     "collapsed": false,
     "input": [
      "%timeit find_first_int(long_string) # Python code"
     ],
     "language": "python",
     "metadata": {},
     "outputs": [
      {
       "output_type": "stream",
       "stream": "stdout",
       "text": [
        "100 loops, best of 3: 6.09 ms per loop\n"
       ]
      }
     ],
     "prompt_number": 5
    },
    {
     "cell_type": "code",
     "collapsed": false,
     "input": [
      "%timeit utils.cfind_first_int(long_string) # C code"
     ],
     "language": "python",
     "metadata": {},
     "outputs": [
      {
       "output_type": "stream",
       "stream": "stdout",
       "text": [
        "100 loops, best of 3: 2.54 ms per loop\n"
       ]
      }
     ],
     "prompt_number": 6
    },
    {
     "cell_type": "heading",
     "level": 1,
     "metadata": {},
     "source": [
      "Basic type declarations"
     ]
    },
    {
     "cell_type": "code",
     "collapsed": false,
     "input": [
      "%load_ext cythonmagic"
     ],
     "language": "python",
     "metadata": {},
     "outputs": [],
     "prompt_number": 7
    },
    {
     "cell_type": "code",
     "collapsed": false,
     "input": [
      "def make_num(s):\n",
      "    return int(s)"
     ],
     "language": "python",
     "metadata": {},
     "outputs": [],
     "prompt_number": 8
    },
    {
     "cell_type": "code",
     "collapsed": false,
     "input": [
      "make_num('123')"
     ],
     "language": "python",
     "metadata": {},
     "outputs": [
      {
       "metadata": {},
       "output_type": "pyout",
       "prompt_number": 9,
       "text": [
        "123"
       ]
      }
     ],
     "prompt_number": 9
    },
    {
     "cell_type": "code",
     "collapsed": false,
     "input": [
      "%%cython \n",
      "\n",
      "def cmake_num(str s):\n",
      "    cdef i = int(s)\n",
      "    return i"
     ],
     "language": "python",
     "metadata": {},
     "outputs": [],
     "prompt_number": 10
    },
    {
     "cell_type": "code",
     "collapsed": false,
     "input": [
      "cmake_num('123')"
     ],
     "language": "python",
     "metadata": {},
     "outputs": [
      {
       "metadata": {},
       "output_type": "pyout",
       "prompt_number": 11,
       "text": [
        "123"
       ]
      }
     ],
     "prompt_number": 11
    },
    {
     "cell_type": "code",
     "collapsed": false,
     "input": [
      "%%cython \n",
      "\n",
      "import cython\n",
      "\n",
      "@cython.locals(s=str, i=int)\n",
      "def cmake_num(s):\n",
      "    i = int(s)\n",
      "    return i"
     ],
     "language": "python",
     "metadata": {},
     "outputs": [],
     "prompt_number": 12
    },
    {
     "cell_type": "code",
     "collapsed": false,
     "input": [
      "cmake_num('123')"
     ],
     "language": "python",
     "metadata": {},
     "outputs": [
      {
       "metadata": {},
       "output_type": "pyout",
       "prompt_number": 13,
       "text": [
        "123"
       ]
      }
     ],
     "prompt_number": 13
    },
    {
     "cell_type": "code",
     "collapsed": false,
     "input": [
      "%%cython -a\n",
      "def sum_values(values):\n",
      "    cdef int value, sum = 0\n",
      "    for value in values:\n",
      "        sum += value\n",
      "    return sum\n",
      "print(sum_values([1, 4, 5]))"
     ],
     "language": "python",
     "metadata": {},
     "outputs": [
      {
       "output_type": "stream",
       "stream": "stdout",
       "text": [
        "10\n"
       ]
      },
      {
       "html": [
        "<!DOCTYPE html>\n",
        "<!-- Generated by Cython 0.20.2 on Sun Aug 17 15:12:31 2014 -->\n",
        "<html>\n",
        "\n",
        "<head>\n",
        "<meta http-equiv=\"Content-Type\" content=\"text/html; charset=utf-8\" />\n",
        "<style type=\"text/css\">\n",
        "\n",
        "body { font-family: courier; font-size: 12; }\n",
        "\n",
        ".code  { font-size: 9; color: #444444; display: none; margin-left: 20px; }\n",
        ".py_c_api  { color: red; }\n",
        ".py_macro_api  { color: #FF7000; }\n",
        ".pyx_c_api  { color: #FF3000; }\n",
        ".pyx_macro_api  { color: #FF7000; }\n",
        ".refnanny  { color: #FFA000; }\n",
        "\n",
        ".error_goto  { color: #FFA000; }\n",
        "\n",
        ".tag  {  }\n",
        "\n",
        ".coerce  { color: #008000; border: 1px dotted #008000 }\n",
        "\n",
        ".py_attr { color: #FF0000; font-weight: bold; }\n",
        ".c_attr  { color: #0000FF; }\n",
        "\n",
        ".py_call { color: #FF0000; font-weight: bold; }\n",
        ".c_call  { color: #0000FF; }\n",
        "\n",
        ".line { margin: 0em }\n",
        "\n",
        "</style>\n",
        "<script>\n",
        "function toggleDiv(id) {\n",
        "    theDiv = document.getElementById(id);\n",
        "    if (theDiv.style.display != 'block') theDiv.style.display = 'block';\n",
        "    else theDiv.style.display = 'none';\n",
        "}\n",
        "</script>\n",
        "</head>\n",
        "        <body>\n",
        "<p>Generated by Cython 0.20.2 on Sun Aug 17 15:12:31 2014\n",
        "<pre class='line' style='background-color: #FFFF5e' onclick='toggleDiv(\"line1\")'> 1: def sum_values(values):</pre>\n",
        "<pre id='line1' class='code' style='background-color: #FFFF5e'>/* Python wrapper */\n",
        "static PyObject *__pyx_pw_46_cython_magic_e4d0a334c7e713788f8098b91d8203c4_1sum_values(PyObject *__pyx_self, PyObject *__pyx_v_values); /*proto*/\n",
        "static PyMethodDef __pyx_mdef_46_cython_magic_e4d0a334c7e713788f8098b91d8203c4_1sum_values = {<span class='pyx_macro_api'>__Pyx_NAMESTR</span>(\"sum_values\"), (PyCFunction)__pyx_pw_46_cython_magic_e4d0a334c7e713788f8098b91d8203c4_1sum_values, METH_O, <span class='pyx_macro_api'>__Pyx_DOCSTR</span>(0)};\n",
        "static PyObject *__pyx_pw_46_cython_magic_e4d0a334c7e713788f8098b91d8203c4_1sum_values(PyObject *__pyx_self, PyObject *__pyx_v_values) {\n",
        "  PyObject *__pyx_r = 0;\n",
        "  <span class='refnanny'>__Pyx_RefNannyDeclarations</span>\n",
        "  <span class='refnanny'>__Pyx_RefNannySetupContext</span>(\"sum_values (wrapper)\", 0);\n",
        "  __pyx_r = __pyx_pf_46_cython_magic_e4d0a334c7e713788f8098b91d8203c4_sum_values(__pyx_self, ((PyObject *)__pyx_v_values));\n",
        "\n",
        "  /* function exit code */\n",
        "  <span class='refnanny'>__Pyx_RefNannyFinishContext</span>();\n",
        "  return __pyx_r;\n",
        "}\n",
        "\n",
        "static PyObject *__pyx_pf_46_cython_magic_e4d0a334c7e713788f8098b91d8203c4_sum_values(CYTHON_UNUSED PyObject *__pyx_self, PyObject *__pyx_v_values) {\n",
        "  int __pyx_v_value;\n",
        "  int __pyx_v_sum;\n",
        "  PyObject *__pyx_r = NULL;\n",
        "  <span class='refnanny'>__Pyx_RefNannyDeclarations</span>\n",
        "  <span class='refnanny'>__Pyx_RefNannySetupContext</span>(\"sum_values\", 0);\n",
        "/* \u2026 */\n",
        "  /* function exit code */\n",
        "  __pyx_L1_error:;\n",
        "  <span class='pyx_macro_api'>__Pyx_XDECREF</span>(__pyx_t_1);\n",
        "  <span class='pyx_macro_api'>__Pyx_XDECREF</span>(__pyx_t_4);\n",
        "  <span class='pyx_c_api'>__Pyx_AddTraceback</span>(\"_cython_magic_e4d0a334c7e713788f8098b91d8203c4.sum_values\", __pyx_clineno, __pyx_lineno, __pyx_filename);\n",
        "  __pyx_r = NULL;\n",
        "  __pyx_L0:;\n",
        "  <span class='refnanny'>__Pyx_XGIVEREF</span>(__pyx_r);\n",
        "  <span class='refnanny'>__Pyx_RefNannyFinishContext</span>();\n",
        "  return __pyx_r;\n",
        "}\n",
        "/* \u2026 */\n",
        "  __pyx_tuple_ = <span class='py_c_api'>PyTuple_Pack</span>(3, __pyx_n_s_values, __pyx_n_s_value, __pyx_n_s_sum);<span class='error_goto'> if (unlikely(!__pyx_tuple_)) {__pyx_filename = __pyx_f[0]; __pyx_lineno = 1; __pyx_clineno = __LINE__; goto __pyx_L1_error;}</span>\n",
        "  <span class='refnanny'>__Pyx_GOTREF</span>(__pyx_tuple_);\n",
        "  <span class='refnanny'>__Pyx_GIVEREF</span>(__pyx_tuple_);\n",
        "/* \u2026 */\n",
        "  __pyx_t_1 = PyCFunction_NewEx(&amp;__pyx_mdef_46_cython_magic_e4d0a334c7e713788f8098b91d8203c4_1sum_values, NULL, __pyx_n_s_cython_magic_e4d0a334c7e713788f);<span class='error_goto'> if (unlikely(!__pyx_t_1)) {__pyx_filename = __pyx_f[0]; __pyx_lineno = 1; __pyx_clineno = __LINE__; goto __pyx_L1_error;}</span>\n",
        "  <span class='refnanny'>__Pyx_GOTREF</span>(__pyx_t_1);\n",
        "  if (<span class='py_c_api'>PyDict_SetItem</span>(__pyx_d, __pyx_n_s_sum_values, __pyx_t_1) &lt; 0) <span class='error_goto'>{__pyx_filename = __pyx_f[0]; __pyx_lineno = 1; __pyx_clineno = __LINE__; goto __pyx_L1_error;}</span>\n",
        "  <span class='pyx_macro_api'>__Pyx_DECREF</span>(__pyx_t_1); __pyx_t_1 = 0;\n",
        "</pre><pre class='line' style='background-color: #FFFFff' onclick='toggleDiv(\"line2\")'> 2:     cdef int value, sum = 0</pre>\n",
        "<pre id='line2' class='code' style='background-color: #FFFFff'>  __pyx_v_sum = 0;\n",
        "</pre><pre class='line' style='background-color: #FFFF29' onclick='toggleDiv(\"line3\")'> 3:     for value in values:</pre>\n",
        "<pre id='line3' class='code' style='background-color: #FFFF29'>  if (<span class='py_c_api'>PyList_CheckExact</span>(__pyx_v_values) || <span class='py_c_api'>PyTuple_CheckExact</span>(__pyx_v_values)) {\n",
        "    __pyx_t_1 = __pyx_v_values; <span class='pyx_macro_api'>__Pyx_INCREF</span>(__pyx_t_1); __pyx_t_2 = 0;\n",
        "    __pyx_t_3 = NULL;\n",
        "  } else {\n",
        "    __pyx_t_2 = -1; __pyx_t_1 = <span class='py_c_api'>PyObject_GetIter</span>(__pyx_v_values);<span class='error_goto'> if (unlikely(!__pyx_t_1)) {__pyx_filename = __pyx_f[0]; __pyx_lineno = 3; __pyx_clineno = __LINE__; goto __pyx_L1_error;}</span>\n",
        "    <span class='refnanny'>__Pyx_GOTREF</span>(__pyx_t_1);\n",
        "    __pyx_t_3 = Py_TYPE(__pyx_t_1)-&gt;tp_iternext;\n",
        "  }\n",
        "  for (;;) {\n",
        "    if (!__pyx_t_3 &amp;&amp; <span class='py_c_api'>PyList_CheckExact</span>(__pyx_t_1)) {\n",
        "      if (__pyx_t_2 &gt;= <span class='py_macro_api'>PyList_GET_SIZE</span>(__pyx_t_1)) break;\n",
        "      #if CYTHON_COMPILING_IN_CPYTHON\n",
        "      __pyx_t_4 = <span class='py_macro_api'>PyList_GET_ITEM</span>(__pyx_t_1, __pyx_t_2); <span class='pyx_macro_api'>__Pyx_INCREF</span>(__pyx_t_4); __pyx_t_2++;<span class='error_goto'> if (unlikely(0 &lt; 0)) {__pyx_filename = __pyx_f[0]; __pyx_lineno = 3; __pyx_clineno = __LINE__; goto __pyx_L1_error;}</span>\n",
        "      #else\n",
        "      __pyx_t_4 = <span class='py_macro_api'>PySequence_ITEM</span>(__pyx_t_1, __pyx_t_2); __pyx_t_2++;<span class='error_goto'> if (unlikely(!__pyx_t_4)) {__pyx_filename = __pyx_f[0]; __pyx_lineno = 3; __pyx_clineno = __LINE__; goto __pyx_L1_error;}</span>\n",
        "      #endif\n",
        "    } else if (!__pyx_t_3 &amp;&amp; <span class='py_c_api'>PyTuple_CheckExact</span>(__pyx_t_1)) {\n",
        "      if (__pyx_t_2 &gt;= <span class='py_macro_api'>PyTuple_GET_SIZE</span>(__pyx_t_1)) break;\n",
        "      #if CYTHON_COMPILING_IN_CPYTHON\n",
        "      __pyx_t_4 = <span class='py_macro_api'>PyTuple_GET_ITEM</span>(__pyx_t_1, __pyx_t_2); <span class='pyx_macro_api'>__Pyx_INCREF</span>(__pyx_t_4); __pyx_t_2++;<span class='error_goto'> if (unlikely(0 &lt; 0)) {__pyx_filename = __pyx_f[0]; __pyx_lineno = 3; __pyx_clineno = __LINE__; goto __pyx_L1_error;}</span>\n",
        "      #else\n",
        "      __pyx_t_4 = <span class='py_macro_api'>PySequence_ITEM</span>(__pyx_t_1, __pyx_t_2); __pyx_t_2++;<span class='error_goto'> if (unlikely(!__pyx_t_4)) {__pyx_filename = __pyx_f[0]; __pyx_lineno = 3; __pyx_clineno = __LINE__; goto __pyx_L1_error;}</span>\n",
        "      #endif\n",
        "    } else {\n",
        "      __pyx_t_4 = __pyx_t_3(__pyx_t_1);\n",
        "      if (unlikely(!__pyx_t_4)) {\n",
        "        PyObject* exc_type = <span class='py_c_api'>PyErr_Occurred</span>();\n",
        "        if (exc_type) {\n",
        "          if (likely(exc_type == PyExc_StopIteration || <span class='py_c_api'>PyErr_GivenExceptionMatches</span>(exc_type, PyExc_StopIteration))) <span class='py_c_api'>PyErr_Clear</span>();\n",
        "          else <span class='error_goto'>{__pyx_filename = __pyx_f[0]; __pyx_lineno = 3; __pyx_clineno = __LINE__; goto __pyx_L1_error;}</span>\n",
        "        }\n",
        "        break;\n",
        "      }\n",
        "      <span class='refnanny'>__Pyx_GOTREF</span>(__pyx_t_4);\n",
        "    }\n",
        "    __pyx_t_5 = <span class='pyx_c_api'>__Pyx_PyInt_As_int</span>(__pyx_t_4);<span class='error_goto'> if (unlikely((__pyx_t_5 == (int)-1) &amp;&amp; PyErr_Occurred())) {__pyx_filename = __pyx_f[0]; __pyx_lineno = 3; __pyx_clineno = __LINE__; goto __pyx_L1_error;}</span>\n",
        "    <span class='pyx_macro_api'>__Pyx_DECREF</span>(__pyx_t_4); __pyx_t_4 = 0;\n",
        "    __pyx_v_value = __pyx_t_5;\n",
        "</pre><pre class='line' style='background-color: #FFFFe7' onclick='toggleDiv(\"line4\")'> 4:         sum += value</pre>\n",
        "<pre id='line4' class='code' style='background-color: #FFFFe7'>    __pyx_v_sum = (__pyx_v_sum + __pyx_v_value);\n",
        "  }\n",
        "  <span class='pyx_macro_api'>__Pyx_DECREF</span>(__pyx_t_1); __pyx_t_1 = 0;\n",
        "</pre><pre class='line' style='background-color: #FFFFc4' onclick='toggleDiv(\"line5\")'> 5:     return sum</pre>\n",
        "<pre id='line5' class='code' style='background-color: #FFFFc4'>  <span class='pyx_macro_api'>__Pyx_XDECREF</span>(__pyx_r);\n",
        "  __pyx_t_1 = <span class='pyx_c_api'>__Pyx_PyInt_From_int</span>(__pyx_v_sum);<span class='error_goto'> if (unlikely(!__pyx_t_1)) {__pyx_filename = __pyx_f[0]; __pyx_lineno = 5; __pyx_clineno = __LINE__; goto __pyx_L1_error;}</span>\n",
        "  <span class='refnanny'>__Pyx_GOTREF</span>(__pyx_t_1);\n",
        "  __pyx_r = __pyx_t_1;\n",
        "  __pyx_t_1 = 0;\n",
        "  goto __pyx_L0;\n",
        "</pre><pre class='line' style='background-color: #FFFF46' onclick='toggleDiv(\"line6\")'> 6: print(sum_values([1, 4, 5]))</pre>\n",
        "<pre id='line6' class='code' style='background-color: #FFFF46'>  __pyx_t_1 = <span class='pyx_c_api'>__Pyx_GetModuleGlobalName</span>(__pyx_n_s_sum_values);<span class='error_goto'> if (unlikely(!__pyx_t_1)) {__pyx_filename = __pyx_f[0]; __pyx_lineno = 6; __pyx_clineno = __LINE__; goto __pyx_L1_error;}</span>\n",
        "  <span class='refnanny'>__Pyx_GOTREF</span>(__pyx_t_1);\n",
        "  __pyx_t_2 = <span class='py_c_api'>PyList_New</span>(3);<span class='error_goto'> if (unlikely(!__pyx_t_2)) {__pyx_filename = __pyx_f[0]; __pyx_lineno = 6; __pyx_clineno = __LINE__; goto __pyx_L1_error;}</span>\n",
        "  <span class='refnanny'>__Pyx_GOTREF</span>(__pyx_t_2);\n",
        "  <span class='pyx_macro_api'>__Pyx_INCREF</span>(__pyx_int_1);\n",
        "  <span class='py_macro_api'>PyList_SET_ITEM</span>(__pyx_t_2, 0, __pyx_int_1);\n",
        "  <span class='refnanny'>__Pyx_GIVEREF</span>(__pyx_int_1);\n",
        "  <span class='pyx_macro_api'>__Pyx_INCREF</span>(__pyx_int_4);\n",
        "  <span class='py_macro_api'>PyList_SET_ITEM</span>(__pyx_t_2, 1, __pyx_int_4);\n",
        "  <span class='refnanny'>__Pyx_GIVEREF</span>(__pyx_int_4);\n",
        "  <span class='pyx_macro_api'>__Pyx_INCREF</span>(__pyx_int_5);\n",
        "  <span class='py_macro_api'>PyList_SET_ITEM</span>(__pyx_t_2, 2, __pyx_int_5);\n",
        "  <span class='refnanny'>__Pyx_GIVEREF</span>(__pyx_int_5);\n",
        "  __pyx_t_3 = <span class='py_c_api'>PyTuple_New</span>(1);<span class='error_goto'> if (unlikely(!__pyx_t_3)) {__pyx_filename = __pyx_f[0]; __pyx_lineno = 6; __pyx_clineno = __LINE__; goto __pyx_L1_error;}</span>\n",
        "  <span class='refnanny'>__Pyx_GOTREF</span>(__pyx_t_3);\n",
        "  <span class='py_macro_api'>PyTuple_SET_ITEM</span>(__pyx_t_3, 0, __pyx_t_2);\n",
        "  <span class='refnanny'>__Pyx_GIVEREF</span>(__pyx_t_2);\n",
        "  __pyx_t_2 = 0;\n",
        "  __pyx_t_2 = <span class='pyx_c_api'>__Pyx_PyObject_Call</span>(__pyx_t_1, __pyx_t_3, NULL);<span class='error_goto'> if (unlikely(!__pyx_t_2)) {__pyx_filename = __pyx_f[0]; __pyx_lineno = 6; __pyx_clineno = __LINE__; goto __pyx_L1_error;}</span>\n",
        "  <span class='refnanny'>__Pyx_GOTREF</span>(__pyx_t_2);\n",
        "  <span class='pyx_macro_api'>__Pyx_DECREF</span>(__pyx_t_1); __pyx_t_1 = 0;\n",
        "  <span class='pyx_macro_api'>__Pyx_DECREF</span>(__pyx_t_3); __pyx_t_3 = 0;\n",
        "  if (<span class='pyx_c_api'>__Pyx_PrintOne</span>(0, __pyx_t_2) &lt; 0) <span class='error_goto'>{__pyx_filename = __pyx_f[0]; __pyx_lineno = 6; __pyx_clineno = __LINE__; goto __pyx_L1_error;}</span>\n",
        "  <span class='pyx_macro_api'>__Pyx_DECREF</span>(__pyx_t_2); __pyx_t_2 = 0;\n",
        "</pre></body></html>"
       ],
       "metadata": {},
       "output_type": "pyout",
       "prompt_number": 14,
       "text": [
        "<IPython.core.display.HTML at 0x1109cc748>"
       ]
      }
     ],
     "prompt_number": 14
    },
    {
     "cell_type": "code",
     "collapsed": false,
     "input": [
      "%%cython\n",
      "def byte_string(char* s):\n",
      "    return s"
     ],
     "language": "python",
     "metadata": {},
     "outputs": [],
     "prompt_number": 15
    },
    {
     "cell_type": "code",
     "collapsed": false,
     "input": [
      "# print(byte_string('asd')) # unicode not working"
     ],
     "language": "python",
     "metadata": {},
     "outputs": [],
     "prompt_number": 16
    },
    {
     "cell_type": "code",
     "collapsed": false,
     "input": [
      "print(byte_string(b'abc')) # bytes works"
     ],
     "language": "python",
     "metadata": {},
     "outputs": [
      {
       "output_type": "stream",
       "stream": "stdout",
       "text": [
        "b'abc'\n"
       ]
      }
     ],
     "prompt_number": 17
    },
    {
     "cell_type": "code",
     "collapsed": false,
     "input": [
      "%%cython\n",
      "\n",
      "def unicode_string(str s):\n",
      "    return s"
     ],
     "language": "python",
     "metadata": {},
     "outputs": [],
     "prompt_number": 18
    },
    {
     "cell_type": "code",
     "collapsed": false,
     "input": [
      "# unicode_string(b'123') # byte string not working"
     ],
     "language": "python",
     "metadata": {},
     "outputs": [],
     "prompt_number": 19
    },
    {
     "cell_type": "code",
     "collapsed": false,
     "input": [
      "unicode_string('123')"
     ],
     "language": "python",
     "metadata": {},
     "outputs": [
      {
       "metadata": {},
       "output_type": "pyout",
       "prompt_number": 20,
       "text": [
        "'123'"
       ]
      }
     ],
     "prompt_number": 20
    },
    {
     "cell_type": "heading",
     "level": 1,
     "metadata": {},
     "source": [
      "Importing C functions"
     ]
    },
    {
     "cell_type": "code",
     "collapsed": false,
     "input": [
      "%%cython\n",
      "# only works with %%cython\n",
      "# note: cimport\n",
      "\n",
      "from libc.stdlib cimport atoi\n",
      "\n",
      "def byte_string_to_int(byte_string):\n",
      "    return atoi(byte_string) + 1"
     ],
     "language": "python",
     "metadata": {},
     "outputs": [],
     "prompt_number": 21
    },
    {
     "cell_type": "code",
     "collapsed": false,
     "input": [
      "byte_string_to_int(b'123')"
     ],
     "language": "python",
     "metadata": {},
     "outputs": [
      {
       "metadata": {},
       "output_type": "pyout",
       "prompt_number": 22,
       "text": [
        "124"
       ]
      }
     ],
     "prompt_number": 22
    },
    {
     "cell_type": "heading",
     "level": 1,
     "metadata": {},
     "source": [
      "Import cpp functions: does not work"
     ]
    },
    {
     "cell_type": "raw",
     "metadata": {},
     "source": [
      "%%cython\n",
      "\n",
      "from libcpp.string cimport string\n",
      "from libcpp.vector cimport vector\n",
      "\n",
      "def substr(s, size_t pos):\n",
      "    cdef vector[string] v = s.split()\n",
      "    for ss in v:\n",
      "        print(ss)\n",
      "    return v[pos]\n",
      "\n",
      "print(substr('Foo bar rar', 1))\n"
     ]
    },
    {
     "cell_type": "heading",
     "level": 1,
     "metadata": {},
     "source": [
      "Structs"
     ]
    },
    {
     "cell_type": "code",
     "collapsed": false,
     "input": [
      "%%cython\n",
      "\n",
      "cdef struct Point:\n",
      "    double x, y, z\n",
      "    int color\n",
      "    \n",
      "def get_point():\n",
      "    cdef Point p\n",
      "    p = Point(x=1.0, y=2.0, z=3.0, color=100)\n",
      "    print p.x + p.y + p.z\n",
      "    return p"
     ],
     "language": "python",
     "metadata": {},
     "outputs": [],
     "prompt_number": 23
    },
    {
     "cell_type": "code",
     "collapsed": false,
     "input": [
      "p = get_point() # struct -> dict\n",
      "print(p)\n",
      "for key, value in p.items():\n",
      "    print('%s: %.1f' % (key, value))"
     ],
     "language": "python",
     "metadata": {},
     "outputs": [
      {
       "output_type": "stream",
       "stream": "stdout",
       "text": [
        "6.0\n",
        "{'y': 2.0, 'x': 1.0, 'color': 100, 'z': 3.0}\n",
        "y: 2.0\n",
        "x: 1.0\n",
        "color: 100.0\n",
        "z: 3.0\n"
       ]
      }
     ],
     "prompt_number": 24
    },
    {
     "cell_type": "heading",
     "level": 1,
     "metadata": {},
     "source": [
      "Performance on unicode strings"
     ]
    },
    {
     "cell_type": "code",
     "collapsed": false,
     "input": [
      "import string\n",
      "s = string.ascii_letters * 1000 + '123' + string.ascii_letters"
     ],
     "language": "python",
     "metadata": {},
     "outputs": [],
     "prompt_number": 25
    },
    {
     "cell_type": "heading",
     "level": 2,
     "metadata": {},
     "source": [
      "Python"
     ]
    },
    {
     "cell_type": "code",
     "collapsed": false,
     "input": [
      "def get_first_num(s):\n",
      "    for i, c in enumerate(s):\n",
      "        if c.isnumeric():\n",
      "            return i"
     ],
     "language": "python",
     "metadata": {},
     "outputs": [],
     "prompt_number": 26
    },
    {
     "cell_type": "code",
     "collapsed": false,
     "input": [
      "%timeit get_first_num(s)"
     ],
     "language": "python",
     "metadata": {},
     "outputs": [
      {
       "output_type": "stream",
       "stream": "stdout",
       "text": [
        "100 loops, best of 3: 6 ms per loop\n"
       ]
      }
     ],
     "prompt_number": 27
    },
    {
     "cell_type": "heading",
     "level": 2,
     "metadata": {},
     "source": [
      "Cython without types"
     ]
    },
    {
     "cell_type": "code",
     "collapsed": false,
     "input": [
      "%%cython \n",
      "\n",
      "def cget_first_num(s):\n",
      "    for i, c in enumerate(s):\n",
      "        if c.isnumeric():\n",
      "            return i"
     ],
     "language": "python",
     "metadata": {},
     "outputs": [],
     "prompt_number": 28
    },
    {
     "cell_type": "code",
     "collapsed": false,
     "input": [
      "%timeit cget_first_num(s)"
     ],
     "language": "python",
     "metadata": {},
     "outputs": [
      {
       "output_type": "stream",
       "stream": "stdout",
       "text": [
        "100 loops, best of 3: 4.16 ms per loop\n"
       ]
      }
     ],
     "prompt_number": 29
    },
    {
     "cell_type": "heading",
     "level": 2,
     "metadata": {},
     "source": [
      "Cython with types"
     ]
    },
    {
     "cell_type": "code",
     "collapsed": false,
     "input": [
      "%%cython \n",
      "\n",
      "import cython\n",
      "\n",
      "def cget_first_num(str s):\n",
      "    cdef int i\n",
      "    cdef cython.Py_UCS4 c\n",
      "    for i, c in enumerate(s):\n",
      "        if c.isnumeric():\n",
      "            return i"
     ],
     "language": "python",
     "metadata": {},
     "outputs": [],
     "prompt_number": 30
    },
    {
     "cell_type": "code",
     "collapsed": false,
     "input": [
      "%timeit cget_first_num(s)"
     ],
     "language": "python",
     "metadata": {},
     "outputs": [
      {
       "output_type": "stream",
       "stream": "stdout",
       "text": [
        "1000 loops, best of 3: 606 \u00b5s per loop\n"
       ]
      }
     ],
     "prompt_number": 31
    },
    {
     "cell_type": "heading",
     "level": 2,
     "metadata": {},
     "source": [
      "Cython with python compatible types"
     ]
    },
    {
     "cell_type": "code",
     "collapsed": false,
     "input": [
      "%%cython \n",
      "\n",
      "import cython\n",
      "\n",
      "@cython.locals(s=str, i=int, c=cython.Py_UCS4)\n",
      "def cget_first_num(s):\n",
      "    for i, c in enumerate(s):\n",
      "        if c.isnumeric():\n",
      "            return i"
     ],
     "language": "python",
     "metadata": {},
     "outputs": [],
     "prompt_number": 32
    },
    {
     "cell_type": "code",
     "collapsed": false,
     "input": [
      "%timeit cget_first_num(s)"
     ],
     "language": "python",
     "metadata": {},
     "outputs": [
      {
       "output_type": "stream",
       "stream": "stdout",
       "text": [
        "1000 loops, best of 3: 619 \u00b5s per loop\n"
       ]
      }
     ],
     "prompt_number": 33
    },
    {
     "cell_type": "heading",
     "level": 1,
     "metadata": {},
     "source": [
      "Arrays"
     ]
    },
    {
     "cell_type": "code",
     "collapsed": false,
     "input": [
      "def native_sum_array(data):\n",
      "    sum_ = 0\n",
      "    for i in range(data.shape[0]):\n",
      "        for j in range(data.shape[1]):\n",
      "            sum_ += data[i, j]\n",
      "    return sum_"
     ],
     "language": "python",
     "metadata": {},
     "outputs": [],
     "prompt_number": 34
    },
    {
     "cell_type": "code",
     "collapsed": false,
     "input": [
      "%%cython\n",
      "\n",
      "def sum_array(double[:, :] data):\n",
      "    cdef size_t i, j\n",
      "    cdef double sum_ = 0\n",
      "    for i in range(data.shape[0]):\n",
      "        for j in range(data.shape[1]):\n",
      "            sum_ += data[i, j]\n",
      "    return sum_"
     ],
     "language": "python",
     "metadata": {},
     "outputs": [],
     "prompt_number": 35
    },
    {
     "cell_type": "code",
     "collapsed": false,
     "input": [
      "huge_data = np.random.rand(1000, 1000)"
     ],
     "language": "python",
     "metadata": {},
     "outputs": [],
     "prompt_number": 36
    },
    {
     "cell_type": "code",
     "collapsed": false,
     "input": [
      "native_sum_array(huge_data)"
     ],
     "language": "python",
     "metadata": {},
     "outputs": [
      {
       "metadata": {},
       "output_type": "pyout",
       "prompt_number": 37,
       "text": [
        "500237.50155450834"
       ]
      }
     ],
     "prompt_number": 37
    },
    {
     "cell_type": "code",
     "collapsed": false,
     "input": [
      "sum_array(huge_data)"
     ],
     "language": "python",
     "metadata": {},
     "outputs": [
      {
       "metadata": {},
       "output_type": "pyout",
       "prompt_number": 38,
       "text": [
        "500237.50155450834"
       ]
      }
     ],
     "prompt_number": 38
    },
    {
     "cell_type": "code",
     "collapsed": false,
     "input": [
      "%timeit native_sum_array(huge_data)"
     ],
     "language": "python",
     "metadata": {},
     "outputs": [
      {
       "output_type": "stream",
       "stream": "stdout",
       "text": [
        "1 loops, best of 3: 506 ms per loop\n"
       ]
      }
     ],
     "prompt_number": 39
    },
    {
     "cell_type": "code",
     "collapsed": false,
     "input": [
      "%timeit sum_array(huge_data)"
     ],
     "language": "python",
     "metadata": {},
     "outputs": [
      {
       "output_type": "stream",
       "stream": "stdout",
       "text": [
        "1000 loops, best of 3: 1.08 ms per loop\n"
       ]
      }
     ],
     "prompt_number": 43
    },
    {
     "cell_type": "code",
     "collapsed": false,
     "input": [
      "%timeit huge_data.sum()"
     ],
     "language": "python",
     "metadata": {},
     "outputs": [
      {
       "output_type": "stream",
       "stream": "stdout",
       "text": [
        "1000 loops, best of 3: 1.09 ms per loop\n"
       ]
      }
     ],
     "prompt_number": 44
    },
    {
     "cell_type": "heading",
     "level": 1,
     "metadata": {},
     "source": [
      "Generic functions"
     ]
    },
    {
     "cell_type": "code",
     "collapsed": false,
     "input": [
      "%%cython \n",
      "\n",
      "ctypedef fused fusedtype:\n",
      "    double\n",
      "    float\n",
      "    int\n",
      "   \n",
      "def generic_sum_array(fusedtype[:, :] data):\n",
      "    cdef size_t i, j\n",
      "    cdef float sum_ = 0\n",
      "    for i in range(data.shape[0]):\n",
      "        for j in range(data.shape[1]):\n",
      "            sum_ += data[i, j]\n",
      "    return sum_"
     ],
     "language": "python",
     "metadata": {},
     "outputs": [],
     "prompt_number": 45
    },
    {
     "cell_type": "code",
     "collapsed": false,
     "input": [
      "data = np.array(np.arange(10).reshape(2, 5), dtype=np.double)\n",
      "generic_sum_array(data)"
     ],
     "language": "python",
     "metadata": {},
     "outputs": [
      {
       "metadata": {},
       "output_type": "pyout",
       "prompt_number": 46,
       "text": [
        "45.0"
       ]
      }
     ],
     "prompt_number": 46
    },
    {
     "cell_type": "code",
     "collapsed": false,
     "input": [
      "data = np.array(np.arange(10).reshape(2, 5), dtype=np.float32)\n",
      "generic_sum_array(data)"
     ],
     "language": "python",
     "metadata": {},
     "outputs": [
      {
       "metadata": {},
       "output_type": "pyout",
       "prompt_number": 47,
       "text": [
        "45.0"
       ]
      }
     ],
     "prompt_number": 47
    },
    {
     "cell_type": "code",
     "collapsed": false,
     "input": [
      "data = np.array(np.arange(10).reshape(2, 5), dtype=np.int32)\n",
      "generic_sum_array(data)"
     ],
     "language": "python",
     "metadata": {},
     "outputs": [
      {
       "metadata": {},
       "output_type": "pyout",
       "prompt_number": 48,
       "text": [
        "45.0"
       ]
      }
     ],
     "prompt_number": 48
    },
    {
     "cell_type": "code",
     "collapsed": false,
     "input": [
      "huge_data_int = np.random.randint(0, 10, 1000000).reshape(100, -1)\n",
      "huge_data_int = np.array(huge_data_int, dtype=np.int32)"
     ],
     "language": "python",
     "metadata": {},
     "outputs": [],
     "prompt_number": 49
    },
    {
     "cell_type": "code",
     "collapsed": false,
     "input": [
      "%timeit native_sum_array(huge_data_int)"
     ],
     "language": "python",
     "metadata": {},
     "outputs": [
      {
       "output_type": "stream",
       "stream": "stdout",
       "text": [
        "1 loops, best of 3: 576 ms per loop\n"
       ]
      }
     ],
     "prompt_number": 50
    },
    {
     "cell_type": "code",
     "collapsed": false,
     "input": [
      "%timeit generic_sum_array(huge_data_int)"
     ],
     "language": "python",
     "metadata": {},
     "outputs": [
      {
       "output_type": "stream",
       "stream": "stdout",
       "text": [
        "1000 loops, best of 3: 1.43 ms per loop\n"
       ]
      }
     ],
     "prompt_number": 51
    },
    {
     "cell_type": "heading",
     "level": 1,
     "metadata": {},
     "source": [
      "Parallel"
     ]
    },
    {
     "cell_type": "code",
     "collapsed": false,
     "input": [
      "%timeit generic_sum_array(huge_data_int)"
     ],
     "language": "python",
     "metadata": {},
     "outputs": [
      {
       "output_type": "stream",
       "stream": "stdout",
       "text": [
        "1000 loops, best of 3: 1.34 ms per loop\n"
       ]
      }
     ],
     "prompt_number": 52
    },
    {
     "cell_type": "code",
     "collapsed": false,
     "input": [
      "%%cython \n",
      "   \n",
      "from cython.parallel import prange\n",
      "\n",
      "def parallel_sum_array(double[:, :] data):\n",
      "    cdef int i, j\n",
      "    cdef double sum_ = 0\n",
      "    for i in prange(data.shape[0], nogil=True, num_threads=2):\n",
      "        for j in range(data.shape[1]):\n",
      "            sum_ += data[i, j]\n",
      "    return sum_"
     ],
     "language": "python",
     "metadata": {},
     "outputs": [],
     "prompt_number": 53
    },
    {
     "cell_type": "code",
     "collapsed": false,
     "input": [
      "data = np.array(np.arange(10).reshape(2, 5), dtype=np.double)\n",
      "parallel_sum_array(data)"
     ],
     "language": "python",
     "metadata": {},
     "outputs": [
      {
       "metadata": {},
       "output_type": "pyout",
       "prompt_number": 54,
       "text": [
        "45.0"
       ]
      }
     ],
     "prompt_number": 54
    },
    {
     "cell_type": "code",
     "collapsed": false,
     "input": [
      "huge_data = np.array(np.random.rand(10000, 10000), dtype=np.double)"
     ],
     "language": "python",
     "metadata": {},
     "outputs": [],
     "prompt_number": 55
    },
    {
     "cell_type": "code",
     "collapsed": false,
     "input": [
      "sum_array(huge_data)"
     ],
     "language": "python",
     "metadata": {},
     "outputs": [
      {
       "metadata": {},
       "output_type": "pyout",
       "prompt_number": 56,
       "text": [
        "50002416.910095476"
       ]
      }
     ],
     "prompt_number": 56
    },
    {
     "cell_type": "code",
     "collapsed": false,
     "input": [
      "parallel_sum_array(huge_data)"
     ],
     "language": "python",
     "metadata": {},
     "outputs": [
      {
       "metadata": {},
       "output_type": "pyout",
       "prompt_number": 57,
       "text": [
        "50002416.910095476"
       ]
      }
     ],
     "prompt_number": 57
    },
    {
     "cell_type": "code",
     "collapsed": false,
     "input": [
      "%timeit sum_array(huge_data)"
     ],
     "language": "python",
     "metadata": {},
     "outputs": [
      {
       "output_type": "stream",
       "stream": "stdout",
       "text": [
        "10 loops, best of 3: 105 ms per loop\n"
       ]
      }
     ],
     "prompt_number": 58
    },
    {
     "cell_type": "code",
     "collapsed": false,
     "input": [
      "%timeit parallel_sum_array(huge_data)"
     ],
     "language": "python",
     "metadata": {},
     "outputs": [
      {
       "output_type": "stream",
       "stream": "stdout",
       "text": [
        "10 loops, best of 3: 137 ms per loop\n"
       ]
      }
     ],
     "prompt_number": 59
    }
   ],
   "metadata": {}
  }
 ]
}