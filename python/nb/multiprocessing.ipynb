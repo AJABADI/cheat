{
 "cells": [
  {
   "cell_type": "markdown",
   "metadata": {},
   "source": [
    "# Basics"
   ]
  },
  {
   "cell_type": "code",
   "execution_count": 34,
   "metadata": {
    "collapsed": false
   },
   "outputs": [
    {
     "name": "stdout",
     "output_type": "stream",
     "text": [
      "Overwriting mp1.py\n"
     ]
    }
   ],
   "source": [
    "%%file mp1.py\n",
    "\n",
    "import multiprocessing as mp\n",
    "import os\n",
    "from time import sleep\n",
    "\n",
    "def hello_world():\n",
    "    print('Hello I am %d' % os.getpid())\n",
    "    sleep(4)\n",
    "\n",
    "ps = [mp.Process(target=hello_world) for i in range(5)]\n",
    "for p in ps:\n",
    "    p.start()\n",
    "    print('Started')\n",
    "    \n",
    "for p in ps:\n",
    "    p.join()\n",
    "    \n",
    "print('Done!')"
   ]
  },
  {
   "cell_type": "code",
   "execution_count": 33,
   "metadata": {
    "collapsed": false
   },
   "outputs": [
    {
     "name": "stdout",
     "output_type": "stream",
     "text": [
      "Started\n",
      "Started\n",
      "Started\n",
      "Started\n",
      "Started\n",
      "Done!\n",
      "Hello I am 872\n",
      "Hello I am 873\n",
      "Hello I am 874\n",
      "Hello I am 875\n",
      "Hello I am 876\n"
     ]
    }
   ],
   "source": [
    "%%bash \n",
    "python ./mp1.py"
   ]
  },
  {
   "cell_type": "markdown",
   "metadata": {},
   "source": [
    "## Queues"
   ]
  },
  {
   "cell_type": "code",
   "execution_count": 42,
   "metadata": {
    "collapsed": false
   },
   "outputs": [
    {
     "name": "stdout",
     "output_type": "stream",
     "text": [
      "Overwriting mp2.py\n"
     ]
    }
   ],
   "source": [
    "%%file mp2.py\n",
    "\n",
    "import multiprocessing as mp\n",
    "import os\n",
    "\n",
    "def take_exp(qin, qout):\n",
    "    while not qin.empty():\n",
    "        x, e = qin.get()\n",
    "        print('%d computed %d^%d' % (os.getpid(), x, e))\n",
    "        qout.put(x**e)\n",
    "\n",
    "qin = mp.Queue()\n",
    "qout = mp.Queue()\n",
    "ps = [mp.Process(target=take_exp, args=(qin, qout)) for i in range(5)]\n",
    "for p in ps:\n",
    "    p.start()\n",
    "    \n",
    "\n",
    "for i in range(20):\n",
    "    qin.put((i, 2))\n",
    "for p in ps:\n",
    "    p.join()\n",
    "y = []\n",
    "while not qout.empty():\n",
    "    y.append(qout.get())\n",
    "\n",
    "print(y)"
   ]
  },
  {
   "cell_type": "code",
   "execution_count": 43,
   "metadata": {
    "collapsed": false
   },
   "outputs": [
    {
     "name": "stdout",
     "output_type": "stream",
     "text": [
      "1757 computed 0^2\n",
      "1757 computed 1^2\n",
      "1757 computed 2^2\n",
      "1757 computed 3^2\n",
      "1757 computed 4^2\n",
      "1757 computed 5^2\n",
      "1757 computed 6^2\n",
      "1757 computed 7^2\n",
      "1757 computed 8^2\n",
      "1757 computed 9^2\n",
      "1757 computed 10^2\n",
      "1757 computed 11^2\n",
      "1757 computed 12^2\n",
      "1757 computed 13^2\n",
      "1757 computed 14^2\n",
      "1757 computed 15^2\n",
      "1757 computed 16^2\n",
      "1757 computed 17^2\n",
      "1757 computed 18^2\n",
      "1757 computed 19^2\n",
      "[0, 1, 4, 9, 16, 25, 36, 49, 64, 81, 100, 121, 144, 169, 196, 225, 256, 289, 324, 361]\n"
     ]
    }
   ],
   "source": [
    "%%bash\n",
    "python mp2.py"
   ]
  },
  {
   "cell_type": "markdown",
   "metadata": {},
   "source": [
    "## Pool"
   ]
  },
  {
   "cell_type": "code",
   "execution_count": 37,
   "metadata": {
    "collapsed": false
   },
   "outputs": [
    {
     "name": "stdout",
     "output_type": "stream",
     "text": [
      "Writing mp3.py\n"
     ]
    }
   ],
   "source": [
    "%%file mp3.py\n",
    "\n",
    "import multiprocessing as mp\n",
    "import os\n",
    "\n",
    "def take_exp(a):\n",
    "    x, e = a\n",
    "    print('%d computed %d^%d' % (os.getpid(), x, e))\n",
    "    return x**e\n",
    "\n",
    "p = mp.Pool(processes=5)\n",
    "x = [(x, 2) for x in range(20)]\n",
    "y = p.map(take_exp, x)\n",
    "print(y)"
   ]
  },
  {
   "cell_type": "markdown",
   "metadata": {},
   "source": [
    "## Locks"
   ]
  },
  {
   "cell_type": "code",
   "execution_count": 53,
   "metadata": {
    "collapsed": false
   },
   "outputs": [
    {
     "name": "stdout",
     "output_type": "stream",
     "text": [
      "Overwriting mp4.py\n"
     ]
    }
   ],
   "source": [
    "%%file mp4.py\n",
    "import multiprocessing as mp\n",
    "import numpy as np\n",
    "import h5py as h5\n",
    "import os\n",
    "\n",
    "def write_to_hdf(lock, group, params):\n",
    "    lock.acquire()\n",
    "    print('%d got lock' % os.getpid())\n",
    "    data = np.random.rand(params['n'], params['m'])\n",
    "    f = h5.File(params['path'], 'a')\n",
    "    if group in f:\n",
    "        del f[group]\n",
    "    f[group] = data\n",
    "    f.close()\n",
    "    lock.release()\n",
    "    print('%d released lock' % os.getpid())\n",
    "    \n",
    "params = dict(path='data.h5', n=10, m=5)\n",
    "groups = ['d1', 'd2', 'd3']\n",
    "lock = mp.Lock()\n",
    "ps = [mp.Process(target=write_to_hdf, args=(lock, g, params)) for g in groups]\n",
    "for p in ps:\n",
    "    p.start()\n",
    "for p in ps:\n",
    "    p.join()\n",
    "print('Done!')"
   ]
  },
  {
   "cell_type": "code",
   "execution_count": 50,
   "metadata": {
    "collapsed": false
   },
   "outputs": [
    {
     "name": "stdout",
     "output_type": "stream",
     "text": [
      "Process is interrupted.\n"
     ]
    }
   ],
   "source": [
    "%%bash\n",
    "python mp4.py"
   ]
  }
 ],
 "metadata": {
  "kernelspec": {
   "display_name": "Python 3",
   "language": "python",
   "name": "python3"
  },
  "language_info": {
   "codemirror_mode": {
    "name": "ipython",
    "version": 3
   },
   "file_extension": ".py",
   "mimetype": "text/x-python",
   "name": "python",
   "nbconvert_exporter": "python",
   "pygments_lexer": "ipython3",
   "version": "3.4.3"
  }
 },
 "nbformat": 4,
 "nbformat_minor": 0
}
