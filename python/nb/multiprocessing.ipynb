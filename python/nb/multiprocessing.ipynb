{
 "metadata": {
  "name": "",
  "signature": "sha256:c0fb5cf38db7c8cc87314dc1fc3387bdbeb64173565279b6caf68cb595e3942c"
 },
 "nbformat": 3,
 "nbformat_minor": 0,
 "worksheets": [
  {
   "cells": [
    {
     "cell_type": "markdown",
     "metadata": {},
     "source": [
      "* http://nbviewer.ipython.org/github/vals/scilife-python-course/blob/master/parallel%20python.ipynb"
     ]
    },
    {
     "cell_type": "code",
     "collapsed": false,
     "input": [
      "import multiprocessing as mp\n",
      "import numpy as np"
     ],
     "language": "python",
     "metadata": {},
     "outputs": [],
     "prompt_number": 1
    },
    {
     "cell_type": "heading",
     "level": 1,
     "metadata": {},
     "source": [
      "Running processes"
     ]
    },
    {
     "cell_type": "code",
     "collapsed": false,
     "input": [
      "%%file mp1.py\n",
      "import multiprocessing as mp\n",
      "\n",
      "def print_pid():\n",
      "    import os\n",
      "    print 'I am %d' % os.getpid()\n",
      "    \n",
      "ps = [mp.Process(target=print_pid) for i in range(5)]\n",
      "for p in ps:\n",
      "    p.start()"
     ],
     "language": "python",
     "metadata": {},
     "outputs": [
      {
       "output_type": "stream",
       "stream": "stdout",
       "text": [
        "Overwriting mp1.py\n"
       ]
      }
     ],
     "prompt_number": 11
    },
    {
     "cell_type": "code",
     "collapsed": false,
     "input": [
      "%%bash\n",
      "python mp1.py"
     ],
     "language": "python",
     "metadata": {},
     "outputs": [
      {
       "output_type": "stream",
       "stream": "stdout",
       "text": [
        "I am 23666\n",
        "I am 23667\n",
        "I am 23668\n",
        "I am 23669\n",
        "I am 23670\n"
       ]
      }
     ],
     "prompt_number": 12
    },
    {
     "cell_type": "heading",
     "level": 1,
     "metadata": {},
     "source": [
      "Queues for synchronizing data"
     ]
    },
    {
     "cell_type": "code",
     "collapsed": false,
     "input": [
      "%%file mp2.py\n",
      "\n",
      "import multiprocessing as mp\n",
      "def get_and_square(q_in , q_out):\n",
      "    x = q_in.get()\n",
      "    q_out.put(x**2)\n",
      "\n",
      "q_in = mp.Queue()\n",
      "q_out = mp.Queue()\n",
      "\n",
      "n = 10\n",
      "ps = [mp.Process(target=get_and_square, args=(q_in, q_out)) for i in range(n)]\n",
      "for p in ps:\n",
      "    p.start()\n",
      "\n",
      "for i in range(n):\n",
      "    q_in.put(i)\n",
      "for i in range(n):\n",
      "    print q_out.get()"
     ],
     "language": "python",
     "metadata": {},
     "outputs": [
      {
       "output_type": "stream",
       "stream": "stdout",
       "text": [
        "Overwriting mp2.py\n"
       ]
      }
     ],
     "prompt_number": 25
    },
    {
     "cell_type": "code",
     "collapsed": false,
     "input": [
      "%%bash \n",
      "python mp2.py"
     ],
     "language": "python",
     "metadata": {},
     "outputs": [
      {
       "output_type": "stream",
       "stream": "stdout",
       "text": [
        "0\n",
        "1\n",
        "4\n",
        "9\n",
        "16\n",
        "36\n",
        "49\n",
        "25\n",
        "64\n",
        "81\n"
       ]
      }
     ],
     "prompt_number": 26
    },
    {
     "cell_type": "heading",
     "level": 1,
     "metadata": {},
     "source": [
      "Pools"
     ]
    },
    {
     "cell_type": "code",
     "collapsed": false,
     "input": [
      "def compute_square(x):\n",
      "    import os\n",
      "    return '%d: %d' % (os.getpid(), x**2)\n",
      "\n",
      "pool = mp.Pool(processes=5)\n",
      "pool.map(compute_square, np.arange(10))"
     ],
     "language": "python",
     "metadata": {},
     "outputs": [
      {
       "metadata": {},
       "output_type": "pyout",
       "prompt_number": 28,
       "text": [
        "['24133: 0',\n",
        " '24134: 1',\n",
        " '24135: 4',\n",
        " '24136: 9',\n",
        " '24137: 16',\n",
        " '24133: 25',\n",
        " '24134: 36',\n",
        " '24135: 49',\n",
        " '24136: 64',\n",
        " '24133: 81']"
       ]
      }
     ],
     "prompt_number": 28
    }
   ],
   "metadata": {}
  }
 ]
}